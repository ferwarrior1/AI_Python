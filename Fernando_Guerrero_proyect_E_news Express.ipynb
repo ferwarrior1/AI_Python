{
 "cells": [
  {
   "cell_type": "markdown",
   "id": "a5155665",
   "metadata": {
    "lang": "es"
   },
   "source": [
    "# Business Statistics of the Project: E-News Express\n",
    "Tools Covered:\n",
    "Hypothesis Testing\n",
    "a/b Testing\n",
    "Data Visualization\n",
    "Statistical Inference"
   ]
  },
  {
   "cell_type": "markdown",
   "id": "30f6669b",
   "metadata": {
    "lang": "es"
   },
   "source": [
    "> On this occasion, the Sales Department has been asked to explore the data and a statistical analysis is carried out (at a level of significance of 5 %) to determine the effectiveness of the new destination page to gather new subscribers for the News portal. answering the following questions:\n",
    "1. Do users spend more time on the new destination page than on the existing destination page?\n",
    "2. Does the conversion rate (the proportion of users visiting the destination page and becomes) of the new page is greater than the conversion rate of the previous page?\n",
    "3. Does the converted state depend on the preferred language? [Suggestion: Create a contingency table using the Pandas.crosstab () function] function\n",
    "4. Is the time dedicated to the new page the same for different language users?\n",
    "## Business context\n",
    "The advent of electronic news portals has offered us a great opportunity to quickly obtain updates on the daily events that occur worldwide. The information in these portals is recovered electronically from online databases, is processed using a variety of software and then transmitted to users. There are multiple advantages of transmitting news electronically, such as faster access to content and the ability to use different technologies such as audio, graphics, video and other interactive elements that are not used or are not yet common in traditional newspapers.\n",
    "E-News Express, an online news portal, aims to expand its business by acquiring new subscribers. Since each website visitor performs certain actions based on their interest, the company plans to analyze these actions to understand the interests of the users and determine how to promote a better commitment. E-New Express executives believe that there has been a decrease in the new monthly subscribers compared to last year because the current website is not well designed enough in terms of scheme and recommended content to keep customers committed enough to make the decision to subscribe.\n",
    "[Companies often analyze user responses to two variants of a product to decide which of the two variants is more effective. This experimental technique, known as A/B test, is used to determine if a new function attracts users based on a chosen metric.]\n",
    "\n",
    "## Aim\n",
    "The company's design team investigated and created a new destination page that has a new scheme and shows more relevant content compared to the previous page. To prove the effectiveness of the new destination page to gather new subscribers, the team conducted an experiment randomly selecting 100 users and dividing them into two groups equally. The existing destination page was shown to the first group (control group) and the new destination page to the second group (treatment group). Data were collected on the interaction of the users of both groups with the two versions of the destination page.\n",
    "\n",
    "## Data dictionary\n",
    "The data contains information on the interaction of the users of both groups with the two versions of the destination page.\n",
    "1. User_id - Unique User ID of the person visiting the website\n",
    "2. Group: if the user belongs to the first group (control) or the second group (treatment)\n",
    "3. Landing_page: If the destination page is new or old\n",
    "4. Time_pasado_en_la_página: Time (in minutes) passed by the user on the destination page\n",
    "5. Converted: if the user becomes subscriber of the news portal or not\n",
    "6. Language_Preferred: Language chosen by the user to see the destination page"
   ]
  },
  {
   "cell_type": "markdown",
   "id": "b73683b0",
   "metadata": {
    "lang": "es"
   },
   "source": [
    "### We import all the necessary libraries"
   ]
  },
  {
   "cell_type": "code",
   "execution_count": 1,
   "id": "658c5dec",
   "metadata": {
    "id": "658c5dec"
   },
   "outputs": [],
   "source": [
    "import numpy as np\n",
    "import pandas as pd\n",
    "from matplotlib import pyplot as plt\n",
    "import seaborn as sns\n",
    "%matplotlib inline\n",
    "import scipy.stats as stats "
   ]
  },
  {
   "cell_type": "markdown",
   "id": "2535ae88",
   "metadata": {
    "lang": "es"
   },
   "source": [
    "### loading the data set"
   ]
  },
  {
   "cell_type": "code",
   "execution_count": 2,
   "id": "d3b95640",
   "metadata": {
    "id": "d3b95640"
   },
   "outputs": [],
   "source": [
    "# Complete The Code Below To Load The Datasetdf = pd.read_csv('abtest.csv')"
   ]
  },
  {
   "cell_type": "markdown",
   "id": "285a0b2f",
   "metadata": {
    "lang": "es"
   },
   "source": [
    "## Explore the data set and remove information through exploratory data analysis"
   ]
  },
  {
   "cell_type": "markdown",
   "id": "7570a20a",
   "metadata": {
    "lang": "es"
   },
   "source": [
    "### Data Summary"
   ]
  },
  {
   "cell_type": "markdown",
   "id": "b6841b62",
   "metadata": {
    "lang": "es"
   },
   "source": [
    "The initial steps to obtain an overview of any data set are:- Observe the first rows of the data set, to verify whether the data set has been loaded correctly or not- Obtain information about the number of rows and columns in the data set- Find out the data types of the columns to ensure that the data is stored in the preferred format and that the value of each property is expected.- Verify the statistical summary of the data set to obtain a general description of the numerical columns of the data"
   ]
  },
  {
   "cell_type": "markdown",
   "id": "ef618376",
   "metadata": {
    "lang": "es"
   },
   "source": [
    "#### Show the first rows of the data set"
   ]
  },
  {
   "cell_type": "code",
   "execution_count": 3,
   "id": "e1ad11d4",
   "metadata": {
    "id": "e1ad11d4"
   },
   "outputs": [
    {
     "data": {
      "text/html": [
       "<div>\n",
       "<style scoped>\n",
       "    .dataframe tbody tr th:only-of-type {\n",
       "        vertical-align: middle;\n",
       "    }\n",
       "\n",
       "    .dataframe tbody tr th {\n",
       "        vertical-align: top;\n",
       "    }\n",
       "\n",
       "    .dataframe thead th {\n",
       "        text-align: right;\n",
       "    }\n",
       "</style>\n",
       "<table border=\"1\" class=\"dataframe\">\n",
       "  <thead>\n",
       "    <tr style=\"text-align: right;\">\n",
       "      <th></th>\n",
       "      <th>user_id</th>\n",
       "      <th>group</th>\n",
       "      <th>landing_page</th>\n",
       "      <th>time_spent_on_the_page</th>\n",
       "      <th>converted</th>\n",
       "      <th>language_preferred</th>\n",
       "    </tr>\n",
       "  </thead>\n",
       "  <tbody>\n",
       "    <tr>\n",
       "      <th>0</th>\n",
       "      <td>546592</td>\n",
       "      <td>control</td>\n",
       "      <td>old</td>\n",
       "      <td>3.48</td>\n",
       "      <td>no</td>\n",
       "      <td>Spanish</td>\n",
       "    </tr>\n",
       "    <tr>\n",
       "      <th>1</th>\n",
       "      <td>546468</td>\n",
       "      <td>treatment</td>\n",
       "      <td>new</td>\n",
       "      <td>7.13</td>\n",
       "      <td>yes</td>\n",
       "      <td>English</td>\n",
       "    </tr>\n",
       "    <tr>\n",
       "      <th>2</th>\n",
       "      <td>546462</td>\n",
       "      <td>treatment</td>\n",
       "      <td>new</td>\n",
       "      <td>4.40</td>\n",
       "      <td>no</td>\n",
       "      <td>Spanish</td>\n",
       "    </tr>\n",
       "    <tr>\n",
       "      <th>3</th>\n",
       "      <td>546567</td>\n",
       "      <td>control</td>\n",
       "      <td>old</td>\n",
       "      <td>3.02</td>\n",
       "      <td>no</td>\n",
       "      <td>French</td>\n",
       "    </tr>\n",
       "    <tr>\n",
       "      <th>4</th>\n",
       "      <td>546459</td>\n",
       "      <td>treatment</td>\n",
       "      <td>new</td>\n",
       "      <td>4.75</td>\n",
       "      <td>yes</td>\n",
       "      <td>Spanish</td>\n",
       "    </tr>\n",
       "  </tbody>\n",
       "</table>\n",
       "</div>"
      ],
      "text/plain": [
       "   user_id      group landing_page  time_spent_on_the_page converted  \\\n",
       "0   546592    control          old                    3.48        no   \n",
       "1   546468  treatment          new                    7.13       yes   \n",
       "2   546462  treatment          new                    4.40        no   \n",
       "3   546567    control          old                    3.02        no   \n",
       "4   546459  treatment          new                    4.75       yes   \n",
       "\n",
       "  language_preferred  \n",
       "0            Spanish  \n",
       "1            English  \n",
       "2            Spanish  \n",
       "3             French  \n",
       "4            Spanish  "
      ]
     },
     "execution_count": 3,
     "metadata": {},
     "output_type": "execute_result"
    }
   ],
   "source": [
    "# Show the first 5 rows of the data setdf.head()"
   ]
  },
  {
   "cell_type": "markdown",
   "id": "e0ebe668",
   "metadata": {
    "lang": "es"
   },
   "source": [
    "#### Show the latest rows of the data set"
   ]
  },
  {
   "cell_type": "code",
   "execution_count": 4,
   "id": "lPgHw1UIHy8X",
   "metadata": {
    "id": "lPgHw1UIHy8X"
   },
   "outputs": [
    {
     "data": {
      "text/html": [
       "<div>\n",
       "<style scoped>\n",
       "    .dataframe tbody tr th:only-of-type {\n",
       "        vertical-align: middle;\n",
       "    }\n",
       "\n",
       "    .dataframe tbody tr th {\n",
       "        vertical-align: top;\n",
       "    }\n",
       "\n",
       "    .dataframe thead th {\n",
       "        text-align: right;\n",
       "    }\n",
       "</style>\n",
       "<table border=\"1\" class=\"dataframe\">\n",
       "  <thead>\n",
       "    <tr style=\"text-align: right;\">\n",
       "      <th></th>\n",
       "      <th>user_id</th>\n",
       "      <th>group</th>\n",
       "      <th>landing_page</th>\n",
       "      <th>time_spent_on_the_page</th>\n",
       "      <th>converted</th>\n",
       "      <th>language_preferred</th>\n",
       "    </tr>\n",
       "  </thead>\n",
       "  <tbody>\n",
       "    <tr>\n",
       "      <th>95</th>\n",
       "      <td>546446</td>\n",
       "      <td>treatment</td>\n",
       "      <td>new</td>\n",
       "      <td>5.15</td>\n",
       "      <td>no</td>\n",
       "      <td>Spanish</td>\n",
       "    </tr>\n",
       "    <tr>\n",
       "      <th>96</th>\n",
       "      <td>546544</td>\n",
       "      <td>control</td>\n",
       "      <td>old</td>\n",
       "      <td>6.52</td>\n",
       "      <td>yes</td>\n",
       "      <td>English</td>\n",
       "    </tr>\n",
       "    <tr>\n",
       "      <th>97</th>\n",
       "      <td>546472</td>\n",
       "      <td>treatment</td>\n",
       "      <td>new</td>\n",
       "      <td>7.07</td>\n",
       "      <td>yes</td>\n",
       "      <td>Spanish</td>\n",
       "    </tr>\n",
       "    <tr>\n",
       "      <th>98</th>\n",
       "      <td>546481</td>\n",
       "      <td>treatment</td>\n",
       "      <td>new</td>\n",
       "      <td>6.20</td>\n",
       "      <td>yes</td>\n",
       "      <td>Spanish</td>\n",
       "    </tr>\n",
       "    <tr>\n",
       "      <th>99</th>\n",
       "      <td>546483</td>\n",
       "      <td>treatment</td>\n",
       "      <td>new</td>\n",
       "      <td>5.86</td>\n",
       "      <td>yes</td>\n",
       "      <td>English</td>\n",
       "    </tr>\n",
       "  </tbody>\n",
       "</table>\n",
       "</div>"
      ],
      "text/plain": [
       "    user_id      group landing_page  time_spent_on_the_page converted  \\\n",
       "95   546446  treatment          new                    5.15        no   \n",
       "96   546544    control          old                    6.52       yes   \n",
       "97   546472  treatment          new                    7.07       yes   \n",
       "98   546481  treatment          new                    6.20       yes   \n",
       "99   546483  treatment          new                    5.86       yes   \n",
       "\n",
       "   language_preferred  \n",
       "95            Spanish  \n",
       "96            English  \n",
       "97            Spanish  \n",
       "98            Spanish  \n",
       "99            English  "
      ]
     },
     "execution_count": 4,
     "metadata": {},
     "output_type": "execute_result"
    }
   ],
   "source": [
    "# Show the last 5 rows of the data setdf.tail()"
   ]
  },
  {
   "cell_type": "markdown",
   "id": "8bb10567",
   "metadata": {
    "lang": "es"
   },
   "source": [
    "#### checking the shape of the data set"
   ]
  },
  {
   "cell_type": "code",
   "execution_count": 5,
   "id": "6n1XyRa3_VMg",
   "metadata": {
    "id": "6n1XyRa3_VMg"
   },
   "outputs": [
    {
     "data": {
      "text/plain": [
       "(100, 6)"
      ]
     },
     "execution_count": 5,
     "metadata": {},
     "output_type": "execute_result"
    }
   ],
   "source": [
    "# view the shape of the datasetdf.shape"
   ]
  },
  {
   "cell_type": "markdown",
   "id": "e6b694c7",
   "metadata": {},
   "source": [
    "> There are 100 records and 6 columns in the proportionate file abtes.csv"
   ]
  },
  {
   "cell_type": "markdown",
   "id": "f3b00150",
   "metadata": {
    "lang": "es"
   },
   "source": [
    "#### Checking the data types of the columns for the data set"
   ]
  },
  {
   "cell_type": "code",
   "execution_count": 118,
   "id": "BeDOZQ99_mQE",
   "metadata": {
    "id": "BeDOZQ99_mQE"
   },
   "outputs": [
    {
     "name": "stdout",
     "output_type": "stream",
     "text": [
      "<class 'pandas.core.frame.DataFrame'>\n",
      "RangeIndex: 100 entries, 0 to 99\n",
      "Data columns (total 6 columns):\n",
      " #   Column                  Non-Null Count  Dtype  \n",
      "---  ------                  --------------  -----  \n",
      " 0   user_id                 100 non-null    int64  \n",
      " 1   group                   100 non-null    object \n",
      " 2   landing_page            100 non-null    object \n",
      " 3   time_spent_on_the_page  100 non-null    float64\n",
      " 4   converted               100 non-null    object \n",
      " 5   language_preferred      100 non-null    object \n",
      "dtypes: float64(1), int64(1), object(4)\n",
      "memory usage: 4.8+ KB\n"
     ]
    }
   ],
   "source": [
    "# Check The Data Types of the columns in the datasetdf.info()"
   ]
  },
  {
   "cell_type": "markdown",
   "id": "66963aa2",
   "metadata": {},
   "source": [
    "> The User_id column is of whole data type.> The columns of Group, Landing_Page, Converted, Language_Preferred are of Object type (string).> The column Time_spent_on_the_page is float type."
   ]
  },
  {
   "cell_type": "markdown",
   "id": "7ba0e81b",
   "metadata": {
    "lang": "es"
   },
   "source": [
    "#### Obtain the statistical summary of numerical variables"
   ]
  },
  {
   "cell_type": "code",
   "execution_count": 119,
   "id": "mHcaTfF0Abjp",
   "metadata": {
    "id": "mHcaTfF0Abjp"
   },
   "outputs": [
    {
     "data": {
      "text/html": [
       "<div>\n",
       "<style scoped>\n",
       "    .dataframe tbody tr th:only-of-type {\n",
       "        vertical-align: middle;\n",
       "    }\n",
       "\n",
       "    .dataframe tbody tr th {\n",
       "        vertical-align: top;\n",
       "    }\n",
       "\n",
       "    .dataframe thead th {\n",
       "        text-align: right;\n",
       "    }\n",
       "</style>\n",
       "<table border=\"1\" class=\"dataframe\">\n",
       "  <thead>\n",
       "    <tr style=\"text-align: right;\">\n",
       "      <th></th>\n",
       "      <th>user_id</th>\n",
       "      <th>time_spent_on_the_page</th>\n",
       "    </tr>\n",
       "  </thead>\n",
       "  <tbody>\n",
       "    <tr>\n",
       "      <th>count</th>\n",
       "      <td>100.000000</td>\n",
       "      <td>100.000000</td>\n",
       "    </tr>\n",
       "    <tr>\n",
       "      <th>mean</th>\n",
       "      <td>546517.000000</td>\n",
       "      <td>5.377800</td>\n",
       "    </tr>\n",
       "    <tr>\n",
       "      <th>std</th>\n",
       "      <td>52.295779</td>\n",
       "      <td>2.378166</td>\n",
       "    </tr>\n",
       "    <tr>\n",
       "      <th>min</th>\n",
       "      <td>546443.000000</td>\n",
       "      <td>0.190000</td>\n",
       "    </tr>\n",
       "    <tr>\n",
       "      <th>25%</th>\n",
       "      <td>546467.750000</td>\n",
       "      <td>3.880000</td>\n",
       "    </tr>\n",
       "    <tr>\n",
       "      <th>50%</th>\n",
       "      <td>546492.500000</td>\n",
       "      <td>5.415000</td>\n",
       "    </tr>\n",
       "    <tr>\n",
       "      <th>75%</th>\n",
       "      <td>546567.250000</td>\n",
       "      <td>7.022500</td>\n",
       "    </tr>\n",
       "    <tr>\n",
       "      <th>max</th>\n",
       "      <td>546592.000000</td>\n",
       "      <td>10.710000</td>\n",
       "    </tr>\n",
       "  </tbody>\n",
       "</table>\n",
       "</div>"
      ],
      "text/plain": [
       "             user_id  time_spent_on_the_page\n",
       "count     100.000000              100.000000\n",
       "mean   546517.000000                5.377800\n",
       "std        52.295779                2.378166\n",
       "min    546443.000000                0.190000\n",
       "25%    546467.750000                3.880000\n",
       "50%    546492.500000                5.415000\n",
       "75%    546567.250000                7.022500\n",
       "max    546592.000000               10.710000"
      ]
     },
     "execution_count": 119,
     "metadata": {},
     "output_type": "execute_result"
    }
   ],
   "source": [
    "df.describe()"
   ]
  },
  {
   "cell_type": "markdown",
   "id": "1379d8b9",
   "metadata": {},
   "source": [
    "> Observations:> The minimum time that users pass on the page once they enter the page is 19 minutes.> The average time that users pass on the page is 53.7 minutes.> The maximum time that users pass on the page is 107.1 minutes.> The median that is in 54.15 minutes is very close to the average that users pass on the page once they enter."
   ]
  },
  {
   "cell_type": "markdown",
   "id": "57cdd12c",
   "metadata": {
    "lang": "es"
   },
   "source": [
    "#### Obtain the statistical summary of the categorical variablesRemember that these are variables that describe a 'characteristic' of a data unit and are selected from a small group of categories. Categorical variables can have the \"object\" or \"int64\" type. (It will also be seen in the univariate and multivariate analysis later)"
   ]
  },
  {
   "cell_type": "code",
   "execution_count": 120,
   "id": "f87e0909",
   "metadata": {},
   "outputs": [
    {
     "data": {
      "text/plain": [
       "control      50\n",
       "treatment    50\n",
       "Name: group, dtype: int64"
      ]
     },
     "execution_count": 120,
     "metadata": {},
     "output_type": "execute_result"
    }
   ],
   "source": [
    "df.group.value_counts()"
   ]
  },
  {
   "cell_type": "code",
   "execution_count": 121,
   "id": "20fd9c81",
   "metadata": {},
   "outputs": [
    {
     "data": {
      "text/plain": [
       "old    50\n",
       "new    50\n",
       "Name: landing_page, dtype: int64"
      ]
     },
     "execution_count": 121,
     "metadata": {},
     "output_type": "execute_result"
    }
   ],
   "source": [
    "df.landing_page.value_counts()"
   ]
  },
  {
   "cell_type": "code",
   "execution_count": 122,
   "id": "JGLDFgDkIbMw",
   "metadata": {
    "id": "JGLDFgDkIbMw"
   },
   "outputs": [
    {
     "data": {
      "text/plain": [
       "yes    54\n",
       "no     46\n",
       "Name: converted, dtype: int64"
      ]
     },
     "execution_count": 122,
     "metadata": {},
     "output_type": "execute_result"
    }
   ],
   "source": [
    "df.converted.value_counts()"
   ]
  },
  {
   "cell_type": "code",
   "execution_count": 123,
   "id": "b0a16146",
   "metadata": {},
   "outputs": [
    {
     "data": {
      "text/plain": [
       "([<matplotlib.patches.Wedge at 0x27905079eb0>,\n",
       "  <matplotlib.patches.Wedge at 0x279050875e0>],\n",
       " [Text(-0.13786663048841225, 1.0913261621521642, ''),\n",
       "  Text(0.13786673266574093, -1.091326149244154, '')],\n",
       " [Text(-0.07519998026640666, 0.5952688157193622, '54.0 %'),\n",
       "  Text(0.07520003599949504, -0.5952688086786293, '46.0 %')])"
      ]
     },
     "execution_count": 123,
     "metadata": {},
     "output_type": "execute_result"
    },
    {
     "data": {
      "image/png": "[encoded data removed]",
      "text/plain": [
       "<Figure size 432x288 with 1 Axes>"
      ]
     },
     "metadata": {},
     "output_type": "display_data"
    }
   ],
   "source": [
    "colores = [\"#AAF683\",\"#FFD97D\"] # variables para el color de los valores de la grafica de pie\n",
    "plt.pie(df.converted.value_counts(),explode=None,labels=None, colors=colores, autopct=\"%0.1f %%\")"
   ]
  },
  {
   "cell_type": "code",
   "execution_count": 124,
   "id": "2da133d6",
   "metadata": {},
   "outputs": [
    {
     "data": {
      "text/plain": [
       "Spanish    34\n",
       "French     34\n",
       "English    32\n",
       "Name: language_preferred, dtype: int64"
      ]
     },
     "execution_count": 124,
     "metadata": {},
     "output_type": "execute_result"
    }
   ],
   "source": [
    "df.language_preferred.value_counts()"
   ]
  },
  {
   "cell_type": "code",
   "execution_count": 125,
   "id": "bfbc6f3b",
   "metadata": {},
   "outputs": [
    {
     "data": {
      "text/plain": [
       "<AxesSubplot:xlabel='language_preferred', ylabel='count'>"
      ]
     },
     "execution_count": 125,
     "metadata": {},
     "output_type": "execute_result"
    },
    {
     "data": {
      "image/png": "[encoded data removed]",
      "text/plain": [
       "<Figure size 1080x360 with 1 Axes>"
      ]
     },
     "metadata": {
      "needs_background": "light"
     },
     "output_type": "display_data"
    }
   ],
   "source": [
    "plt.figure(figsize = (15,5))\n",
    "sns.countplot(data = df, x = 'language_preferred') "
   ]
  },
  {
   "cell_type": "markdown",
   "id": "4cf36dd1",
   "metadata": {},
   "source": [
    "> As indicated by the group is divided into control and treatment with values ​​of 50 and 50. The same with Landing page its values ​​are 50 and 50 for Old and New. The convert field has the value of 54 for Yes and 46 for No. and in Language Preferred has three Spanish categories with 34, French 34 and English with 32."
   ]
  },
  {
   "cell_type": "markdown",
   "id": "af1c7c04",
   "metadata": {
    "lang": "es"
   },
   "source": [
    "### Check if values ​​are missing"
   ]
  },
  {
   "cell_type": "code",
   "execution_count": 126,
   "id": "NPQfOZgAALLC",
   "metadata": {
    "id": "NPQfOZgAALLC"
   },
   "outputs": [
    {
     "data": {
      "text/plain": [
       "user_id                   0\n",
       "group                     0\n",
       "landing_page              0\n",
       "time_spent_on_the_page    0\n",
       "converted                 0\n",
       "language_preferred        0\n",
       "dtype: int64"
      ]
     },
     "execution_count": 126,
     "metadata": {},
     "output_type": "execute_result"
    }
   ],
   "source": [
    "df.isnull().sum()"
   ]
  },
  {
   "cell_type": "code",
   "execution_count": 127,
   "id": "2f306bfe",
   "metadata": {},
   "outputs": [
    {
     "data": {
      "text/plain": [
       "<AxesSubplot:>"
      ]
     },
     "execution_count": 127,
     "metadata": {},
     "output_type": "execute_result"
    },
    {
     "data": {
      "image/png": "[encoded data removed]",
      "text/plain": [
       "<Figure size 432x288 with 2 Axes>"
      ]
     },
     "metadata": {
      "needs_background": "light"
     },
     "output_type": "display_data"
    }
   ],
   "source": [
    "sns.heatmap(df.isnull(), yticklabels = False)  # verificamos en forma grafica mediante un mapa en todas las columnas \n",
    "# In case null values ​​or missing appear"
   ]
  },
  {
   "cell_type": "code",
   "execution_count": 128,
   "id": "58744889",
   "metadata": {},
   "outputs": [
    {
     "data": {
      "text/plain": [
       "user_id                   0\n",
       "group                     0\n",
       "landing_page              0\n",
       "time_spent_on_the_page    0\n",
       "converted                 0\n",
       "language_preferred        0\n",
       "dtype: int64"
      ]
     },
     "execution_count": 128,
     "metadata": {},
     "output_type": "execute_result"
    }
   ],
   "source": [
    "df.isna().sum()"
   ]
  },
  {
   "cell_type": "code",
   "execution_count": 129,
   "id": "72f4ba1d",
   "metadata": {},
   "outputs": [
    {
     "data": {
      "text/plain": [
       "user_id                   False\n",
       "group                     False\n",
       "landing_page              False\n",
       "time_spent_on_the_page    False\n",
       "converted                 False\n",
       "language_preferred        False\n",
       "dtype: bool"
      ]
     },
     "execution_count": 129,
     "metadata": {},
     "output_type": "execute_result"
    }
   ],
   "source": [
    "df.isnull().any()   # ejecutamos esta instruccion para ver como responde en todas las columnas por si hay algun valor true"
   ]
  },
  {
   "cell_type": "markdown",
   "id": "8a1916c2",
   "metadata": {},
   "source": [
    "> Given the above tests, it does not contain null values ​​or missing"
   ]
  },
  {
   "cell_type": "markdown",
   "id": "7f5b3a29",
   "metadata": {
    "lang": "es"
   },
   "source": [
    "### Search duplicates"
   ]
  },
  {
   "cell_type": "code",
   "execution_count": 130,
   "id": "00aa858e",
   "metadata": {},
   "outputs": [
    {
     "data": {
      "text/plain": [
       "100"
      ]
     },
     "execution_count": 130,
     "metadata": {},
     "output_type": "execute_result"
    }
   ],
   "source": [
    "df['user_id'].nunique()  # checamos los valores unicos con el comando nunique"
   ]
  },
  {
   "cell_type": "code",
   "execution_count": 131,
   "id": "17e7b1c0",
   "metadata": {},
   "outputs": [
    {
     "data": {
      "text/plain": [
       "0     False\n",
       "1     False\n",
       "2     False\n",
       "3     False\n",
       "4     False\n",
       "      ...  \n",
       "95    False\n",
       "96    False\n",
       "97    False\n",
       "98    False\n",
       "99    False\n",
       "Name: user_id, Length: 100, dtype: bool"
      ]
     },
     "execution_count": 131,
     "metadata": {},
     "output_type": "execute_result"
    }
   ],
   "source": [
    "df['user_id'].duplicated() # checamos si hay duplicados con el comando duplicated"
   ]
  },
  {
   "cell_type": "code",
   "execution_count": 5,
   "id": "2173a3d7",
   "metadata": {},
   "outputs": [
    {
     "data": {
      "text/plain": [
       "0"
      ]
     },
     "execution_count": 5,
     "metadata": {},
     "output_type": "execute_result"
    }
   ],
   "source": [
    "df['user_id'].duplicated().sum() # checamos si hay duplicados con el comando duplicated y con el comando sum para traer el\n",
    "# Total duplicate elements (for the User_ID key field)"
   ]
  },
  {
   "cell_type": "code",
   "execution_count": 133,
   "id": "95d1f3a4",
   "metadata": {},
   "outputs": [
    {
     "name": "stdout",
     "output_type": "stream",
     "text": [
      "No hay valores duplicados en la llave User_id\n"
     ]
    }
   ],
   "source": [
    "# I ask if the logity of the User_ID field (file key field), is equal to the key elements of the User_ID fieldif len(df['user_id']) == len(set(df['user_id'])):  # con el metodo set hace un barrido de los elementos unicos del campo\n",
    "# print on the screen if there are no duplicates in the key    print('No hay valores duplicados en la llave User_id')\n",
    "else:\n",
    "# print on the screen if there are duplicates in the key    print('Si hay valores duplicados en la llave User_id')\n"
   ]
  },
  {
   "cell_type": "markdown",
   "id": "9922b91d",
   "metadata": {},
   "source": [
    "> Only the User_id key field is verified since the other fields are not key and can bring duplicates (without ISSUES or causing findings)."
   ]
  },
  {
   "cell_type": "code",
   "execution_count": 134,
   "id": "5bd22c77",
   "metadata": {},
   "outputs": [
    {
     "data": {
      "text/plain": [
       "0"
      ]
     },
     "execution_count": 134,
     "metadata": {},
     "output_type": "execute_result"
    }
   ],
   "source": [
    "df.duplicated().sum() # checamos si hay duplicados con el comando duplicated y con el comando sum para traer el\n",
    "# Total of duplicate elements (for all the dataframe or all the columns or file)"
   ]
  },
  {
   "cell_type": "markdown",
   "id": "dd5cfab6",
   "metadata": {},
   "source": [
    "> There are no duplicate values ​​throughout the file therefore there are no duplicate values ​​in our Data Frame"
   ]
  },
  {
   "cell_type": "markdown",
   "id": "d42249ae",
   "metadata": {
    "lang": "es"
   },
   "source": [
    "### Univariate analysis"
   ]
  },
  {
   "cell_type": "markdown",
   "id": "9714e5e7",
   "metadata": {
    "lang": "es"
   },
   "source": [
    "#### Permanence time on the page"
   ]
  },
  {
   "cell_type": "code",
   "execution_count": 135,
   "id": "3dsXz9R6BXIX",
   "metadata": {
    "id": "3dsXz9R6BXIX"
   },
   "outputs": [
    {
     "data": {
      "image/png": "[encoded data removed]",
      "text/plain": [
       "<Figure size 432x288 with 1 Axes>"
      ]
     },
     "metadata": {
      "needs_background": "light"
     },
     "output_type": "display_data"
    },
    {
     "data": {
      "image/png": "[encoded data removed]",
      "text/plain": [
       "<Figure size 432x288 with 1 Axes>"
      ]
     },
     "metadata": {
      "needs_background": "light"
     },
     "output_type": "display_data"
    }
   ],
   "source": [
    "sns.histplot(data=df,x='time_spent_on_the_page')\n",
    "plt.show()\n",
    "sns.boxplot(data=df,x='time_spent_on_the_page')\n",
    "plt.show()"
   ]
  },
  {
   "cell_type": "markdown",
   "id": "ac3bc537",
   "metadata": {},
   "source": [
    "> It is observed that the last average time in minutes is 53 or 54 as it was observed in the previous statistical analysis and there is almost a symmetry."
   ]
  },
  {
   "cell_type": "markdown",
   "id": "fa5579ba",
   "metadata": {
    "lang": "es"
   },
   "source": [
    "#### Cluster"
   ]
  },
  {
   "cell_type": "code",
   "execution_count": 136,
   "id": "-EckQbpMAsp1",
   "metadata": {
    "id": "-EckQbpMAsp1"
   },
   "outputs": [
    {
     "data": {
      "text/plain": [
       "control      50\n",
       "treatment    50\n",
       "Name: group, dtype: int64"
      ]
     },
     "execution_count": 136,
     "metadata": {},
     "output_type": "execute_result"
    }
   ],
   "source": [
    "df['group'].value_counts()"
   ]
  },
  {
   "cell_type": "code",
   "execution_count": 137,
   "id": "ROvZjuEGBm0t",
   "metadata": {
    "id": "ROvZjuEGBm0t"
   },
   "outputs": [
    {
     "data": {
      "image/png": "[encoded data removed]",
      "text/plain": [
       "<Figure size 432x288 with 1 Axes>"
      ]
     },
     "metadata": {
      "needs_background": "light"
     },
     "output_type": "display_data"
    }
   ],
   "source": [
    "sns.countplot(data=df,x='group')\n",
    "plt.show()"
   ]
  },
  {
   "cell_type": "markdown",
   "id": "b1542d68",
   "metadata": {},
   "source": [
    "> 50 and 50 for the control and treatment group"
   ]
  },
  {
   "cell_type": "markdown",
   "id": "672a3675",
   "metadata": {
    "lang": "es"
   },
   "source": [
    "#### Destination page"
   ]
  },
  {
   "cell_type": "code",
   "execution_count": 138,
   "id": "6LlJXjzBA_jP",
   "metadata": {
    "id": "6LlJXjzBA_jP"
   },
   "outputs": [
    {
     "data": {
      "text/plain": [
       "old    50\n",
       "new    50\n",
       "Name: landing_page, dtype: int64"
      ]
     },
     "execution_count": 138,
     "metadata": {},
     "output_type": "execute_result"
    }
   ],
   "source": [
    "df['landing_page'].value_counts()"
   ]
  },
  {
   "cell_type": "code",
   "execution_count": 139,
   "id": "CbIZgbOzBuxF",
   "metadata": {
    "id": "CbIZgbOzBuxF"
   },
   "outputs": [
    {
     "data": {
      "image/png": "[encoded data removed]",
      "text/plain": [
       "<Figure size 432x288 with 1 Axes>"
      ]
     },
     "metadata": {
      "needs_background": "light"
     },
     "output_type": "display_data"
    }
   ],
   "source": [
    "# Complete The Code To Plot The Countplootsns.countplot(data=df,x='landing_page')\n",
    "plt.show()"
   ]
  },
  {
   "cell_type": "markdown",
   "id": "1fce6e75",
   "metadata": {
    "lang": "es"
   },
   "source": [
    "#### Converted"
   ]
  },
  {
   "cell_type": "code",
   "execution_count": 140,
   "id": "z80t7LK5BCBT",
   "metadata": {
    "id": "z80t7LK5BCBT"
   },
   "outputs": [
    {
     "data": {
      "text/plain": [
       "yes    54\n",
       "no     46\n",
       "Name: converted, dtype: int64"
      ]
     },
     "execution_count": 140,
     "metadata": {},
     "output_type": "execute_result"
    }
   ],
   "source": [
    "df['converted'].value_counts()"
   ]
  },
  {
   "cell_type": "code",
   "execution_count": 141,
   "id": "qIMrpxF4B7an",
   "metadata": {
    "id": "qIMrpxF4B7an"
   },
   "outputs": [
    {
     "data": {
      "image/png": "[encoded data removed]",
      "text/plain": [
       "<Figure size 432x288 with 1 Axes>"
      ]
     },
     "metadata": {
      "needs_background": "light"
     },
     "output_type": "display_data"
    }
   ],
   "source": [
    "# Complete The Code To Plot The Countplootsns.countplot(data=df,x='converted')\n",
    "plt.show()"
   ]
  },
  {
   "cell_type": "markdown",
   "id": "074fedc9",
   "metadata": {},
   "source": [
    "> 50 and 50 for converted no and yes"
   ]
  },
  {
   "cell_type": "markdown",
   "id": "e590aff2",
   "metadata": {
    "lang": "es"
   },
   "source": [
    "#### Preferred language"
   ]
  },
  {
   "cell_type": "code",
   "execution_count": 142,
   "id": "_g2CBicdBDF0",
   "metadata": {
    "id": "_g2CBicdBDF0"
   },
   "outputs": [
    {
     "data": {
      "text/plain": [
       "Spanish    34\n",
       "French     34\n",
       "English    32\n",
       "Name: language_preferred, dtype: int64"
      ]
     },
     "execution_count": 142,
     "metadata": {},
     "output_type": "execute_result"
    }
   ],
   "source": [
    "df['language_preferred'].value_counts()"
   ]
  },
  {
   "cell_type": "code",
   "execution_count": 143,
   "id": "BYnVZH8ECQaY",
   "metadata": {
    "id": "BYnVZH8ECQaY"
   },
   "outputs": [
    {
     "data": {
      "image/png": "[encoded data removed]",
      "text/plain": [
       "<Figure size 432x288 with 1 Axes>"
      ]
     },
     "metadata": {
      "needs_background": "light"
     },
     "output_type": "display_data"
    }
   ],
   "source": [
    "# Complete The Code To Plot The Countplootsns.countplot(data=df,x='language_preferred')\n",
    "plt.show()"
   ]
  },
  {
   "cell_type": "markdown",
   "id": "579b208e",
   "metadata": {},
   "source": [
    "> Good apparently the less preferred language is English being this weird, since the universal or more common language throughout the world is English."
   ]
  },
  {
   "cell_type": "markdown",
   "id": "ba421416",
   "metadata": {
    "lang": "es"
   },
   "source": [
    "### Bivariate analysis"
   ]
  },
  {
   "cell_type": "markdown",
   "id": "d6aeaf38",
   "metadata": {
    "lang": "es"
   },
   "source": [
    "#### Destination page vs permanence time on the page"
   ]
  },
  {
   "cell_type": "code",
   "execution_count": 144,
   "id": "2y7N8qQiDEfn",
   "metadata": {
    "id": "2y7N8qQiDEfn"
   },
   "outputs": [
    {
     "data": {
      "image/png": "[encoded data removed]",
      "text/plain": [
       "<Figure size 720x432 with 1 Axes>"
      ]
     },
     "metadata": {
      "needs_background": "light"
     },
     "output_type": "display_data"
    }
   ],
   "source": [
    "plt.figure(figsize=(10,6))\n",
    "sns.boxplot(data=df,x='landing_page',y='time_spent_on_the_page')\n",
    "plt.show()\n"
   ]
  },
  {
   "cell_type": "markdown",
   "id": "bd4766bf",
   "metadata": {},
   "source": [
    "> It is clearly observed that the average of the new page (New) in past time is greater than the old (Old) page.With the new page there are 7 minutes more than on the old page that a user spends time."
   ]
  },
  {
   "cell_type": "markdown",
   "id": "480bb36f",
   "metadata": {
    "lang": "es"
   },
   "source": [
    "#### Status of conversion against the time of permanence on the page"
   ]
  },
  {
   "cell_type": "code",
   "execution_count": 145,
   "id": "yPqV_UsvDURc",
   "metadata": {
    "id": "yPqV_UsvDURc"
   },
   "outputs": [
    {
     "data": {
      "image/png": "[encoded data removed]",
      "text/plain": [
       "<Figure size 648x648 with 1 Axes>"
      ]
     },
     "metadata": {
      "needs_background": "light"
     },
     "output_type": "display_data"
    }
   ],
   "source": [
    "plt.figure(figsize=(9, 9))\n",
    "sns.boxplot(data = df, x = 'time_spent_on_the_page', hue = 'converted', color = 'green')\n",
    "plt.show()\n"
   ]
  },
  {
   "cell_type": "markdown",
   "id": "4ffa2420",
   "metadata": {},
   "source": [
    "> The average is almost 5.7 minutes a little more than 5.3 or 5.4 (which are the average and the median)"
   ]
  },
  {
   "cell_type": "markdown",
   "id": "afdd61b2",
   "metadata": {
    "lang": "es"
   },
   "source": [
    "#### Preferred language against permanence time on the page"
   ]
  },
  {
   "cell_type": "code",
   "execution_count": 146,
   "id": "IaFp53rDDn2W",
   "metadata": {
    "id": "IaFp53rDDn2W"
   },
   "outputs": [
    {
     "data": {
      "image/png": "[encoded data removed]",
      "text/plain": [
       "<Figure size 648x648 with 1 Axes>"
      ]
     },
     "metadata": {
      "needs_background": "light"
     },
     "output_type": "display_data"
    }
   ],
   "source": [
    "plt.figure(figsize=(9, 9))\n",
    "sns.boxplot(data = df, x = 'time_spent_on_the_page', y = 'language_preferred')\n",
    "plt.show()"
   ]
  },
  {
   "cell_type": "markdown",
   "id": "17a8cf4e",
   "metadata": {},
   "source": [
    "> The preferred language as to the time users spend on the page is English, followed by Spanish and finally is the French language."
   ]
  },
  {
   "cell_type": "markdown",
   "id": "a867691e",
   "metadata": {
    "lang": "es"
   },
   "source": [
    "## 1. Do the users spend more time on the new new destination page than on the existing destination page?"
   ]
  },
  {
   "cell_type": "markdown",
   "id": "a8ba7bef",
   "metadata": {
    "lang": "es"
   },
   "source": [
    "### Perform visual analysis"
   ]
  },
  {
   "cell_type": "code",
   "execution_count": 147,
   "id": "6eZJa41eg21n",
   "metadata": {
    "id": "6eZJa41eg21n"
   },
   "outputs": [
    {
     "data": {
      "image/png": "[encoded data removed]",
      "text/plain": [
       "<Figure size 576x432 with 1 Axes>"
      ]
     },
     "metadata": {
      "needs_background": "light"
     },
     "output_type": "display_data"
    }
   ],
   "source": [
    "plt.figure(figsize=(8,6))\n",
    "sns.boxplot(x = 'landing_page', y = 'time_spent_on_the_page', data = df)\n",
    "plt.show()"
   ]
  },
  {
   "cell_type": "markdown",
   "id": "7f6ffc83",
   "metadata": {},
   "source": [
    "> It can be said that yes, that users spend most of the time on the new page (New) than in the old (Old)"
   ]
  },
  {
   "cell_type": "markdown",
   "id": "1c44badf",
   "metadata": {
    "lang": "es"
   },
   "source": [
    "### Step 1: Define the null and alternative hypothesis"
   ]
  },
  {
   "cell_type": "markdown",
   "id": "d2ac77ef",
   "metadata": {
    "id": "d2ac77ef"
   },
   "source": [
    "$ H_0 $: 𝜇 1 = 𝜇 2 (the null hypothesis tells us that it is the same time, that users pass on the pages)\n",
    "\n",
    "$ H_A $: 𝜇 1> 𝜇 2 (alternative hypothesis contradicts the null saying that users spend more time on the new page)\n"
   ]
  },
  {
   "cell_type": "markdown",
   "id": "cba5bb93",
   "metadata": {
    "lang": "es"
   },
   "source": [
    "### Step 2: Select the right test"
   ]
  },
  {
   "cell_type": "markdown",
   "id": "79ed66ef",
   "metadata": {
    "lang": "es"
   },
   "source": [
    "This is proof of a tail on two population averages of two independent populations. The standard population deviations are unknown. ** Based on this information, select the appropriate test **."
   ]
  },
  {
   "cell_type": "markdown",
   "id": "58fb603f",
   "metadata": {},
   "source": [
    "# <a name = 'link9'> ** The appropriate test is: Test T of two independent samples for the equality of means and unknown standard deviation ** </a>"
   ]
  },
  {
   "cell_type": "markdown",
   "id": "12df8716",
   "metadata": {
    "lang": "es"
   },
   "source": [
    "### Step 3: Decide the level of significance"
   ]
  },
  {
   "cell_type": "markdown",
   "id": "9feaf669",
   "metadata": {
    "lang": "es"
   },
   "source": [
    "As indicated in the problem statement, we select $ \\ Alpha = 0.05 $."
   ]
  },
  {
   "cell_type": "markdown",
   "id": "00cfaee3",
   "metadata": {
    "lang": "es"
   },
   "source": [
    "### Step 4: Collect and prepare data"
   ]
  },
  {
   "cell_type": "code",
   "execution_count": 148,
   "id": "f5a59495",
   "metadata": {
    "id": "f5a59495"
   },
   "outputs": [],
   "source": [
    "# A data frame divided into subsets for new users of the destination page is createdtime_spent_new = df[df['landing_page'] == 'new']['time_spent_on_the_page'] # new - para nueva pagina\n",
    "\n",
    "# A data frame divided into subsets for users of the previous destination page is createdtime_spent_old = df[df['landing_page'] == 'old']['time_spent_on_the_page'] # old - para vieja pagina"
   ]
  },
  {
   "cell_type": "code",
   "execution_count": 149,
   "id": "tNGXW88MFxFz",
   "metadata": {
    "id": "tNGXW88MFxFz"
   },
   "outputs": [
    {
     "name": "stdout",
     "output_type": "stream",
     "text": [
      "La desviación estándar muestral del tiempo empleado en la nueva página es: 1.82\n",
      "La desviación estándar muestral del tiempo empleado en la vieja página es: 2.58\n"
     ]
    }
   ],
   "source": [
    "print('La desviación estándar muestral del tiempo empleado en la nueva página es:', round(time_spent_new.std(),2))\n",
    "print('La desviación estándar muestral del tiempo empleado en la vieja página es:', round(time_spent_old.std(),2))"
   ]
  },
  {
   "cell_type": "markdown",
   "id": "d776cbc9",
   "metadata": {
    "lang": "es"
   },
   "source": [
    "** Based on the standard deviations of the sample of the two groups, decide if it can be assumed that the standard population deviations are equal or unequal **."
   ]
  },
  {
   "cell_type": "markdown",
   "id": "5a416eef",
   "metadata": {},
   "source": [
    "> Obviously the standard population deviations are unequal."
   ]
  },
  {
   "cell_type": "markdown",
   "id": "3d97cd69",
   "metadata": {
    "lang": "es"
   },
   "source": [
    "### Step 5: Calculate the value P"
   ]
  },
  {
   "cell_type": "code",
   "execution_count": 150,
   "id": "fac8594a",
   "metadata": {
    "id": "fac8594a"
   },
   "outputs": [
    {
     "name": "stdout",
     "output_type": "stream",
     "text": [
      "El p-value es 0.0001392381225166549\n"
     ]
    }
   ],
   "source": [
    "# We import the required function (ttest_ind)from scipy.stats import ttest_ind\n",
    "\n",
    "# Based on the Ttest_ind formuna we have:test_stat, p_value =  ttest_ind(time_spent_new, time_spent_old, equal_var = False, alternative = 'greater')  \n",
    "# Where our equal_var value is false and the alternative is greater\n",
    "print('El p-value es', p_value)"
   ]
  },
  {
   "cell_type": "markdown",
   "id": "f3a6244c",
   "metadata": {
    "lang": "es"
   },
   "source": [
    "### Step 6: Compare the P value with $ \\ alpha $"
   ]
  },
  {
   "cell_type": "code",
   "execution_count": 151,
   "id": "7be47289",
   "metadata": {
    "id": "7be47289"
   },
   "outputs": [
    {
     "name": "stdout",
     "output_type": "stream",
     "text": [
      "Como el valor p 0.0001392381225166549 es menor que el nivel de significación, rechazamos la hipótesis nula.\n"
     ]
    }
   ],
   "source": [
    "# conclusion based on the value Pif p_value < 0.05:\n",
    "    print(f'Como el valor p {p_value} es menor que el nivel de significación, rechazamos la hipótesis nula.')\n",
    "else:\n",
    "    print(f'Como el valor p {p_value} es mayor que el nivel de significación, no podemos rechazar la hipótesis nula.')"
   ]
  },
  {
   "cell_type": "markdown",
   "id": "cf0af1db",
   "metadata": {
    "lang": "es"
   },
   "source": [
    "### Step 7: Extract inference"
   ]
  },
  {
   "cell_type": "markdown",
   "id": "2da34b2d",
   "metadata": {},
   "source": [
    "> Since the P value is less than the level of significance (5%), we reject the null hypothesis.Therefore, we have enough statistical evidence to say that users spend more time on the new page."
   ]
  },
  {
   "cell_type": "markdown",
   "id": "6b16dd4b",
   "metadata": {
    "id": "6b16dd4b"
   },
   "source": [
    "\n",
    "\n"
   ]
  },
  {
   "cell_type": "markdown",
   "id": "229314db",
   "metadata": {
    "lang": "es"
   },
   "source": [
    "## 2. The conversion rate (the proportion of users visiting the destination page and becomes) of the new page is greater than the conversion rate of the previous page?"
   ]
  },
  {
   "cell_type": "markdown",
   "id": "60ee6427",
   "metadata": {
    "lang": "es"
   },
   "source": [
    "### Perform visual analysis"
   ]
  },
  {
   "cell_type": "code",
   "execution_count": 152,
   "id": "b7f52898",
   "metadata": {
    "id": "b7f52898"
   },
   "outputs": [
    {
     "data": {
      "image/png": "[encoded data removed]",
      "text/plain": [
       "<Figure size 432x576 with 1 Axes>"
      ]
     },
     "metadata": {
      "needs_background": "light"
     },
     "output_type": "display_data"
    }
   ],
   "source": [
    "# Complete The Code To Visually Compare the Conversion Rate for the New Page and the Conversion Rate for The Old Pagepd.crosstab(df['converted'],df['group'],normalize='index').plot(kind=\"bar\", figsize=(6,8),stacked=True)\n",
    "plt.legend()\n",
    "plt.show()"
   ]
  },
  {
   "cell_type": "markdown",
   "id": "aa583b8f",
   "metadata": {},
   "source": [
    "> The graph shows that the conversion to the new page is greater, that is, the new page is greater than the conversion rate of the previous page"
   ]
  },
  {
   "cell_type": "markdown",
   "id": "93c85f6e",
   "metadata": {
    "lang": "es"
   },
   "source": [
    "### Step 1: Define the null and alternative hypothesis"
   ]
  },
  {
   "cell_type": "markdown",
   "id": "VjdHgQQPLIim",
   "metadata": {
    "id": "VjdHgQQPLIim"
   },
   "source": [
    "$ H_0 $: 𝜇 1 = 𝜇 2 (the null hypothesis tells us the conversion rate is the same between old and new pages (Old & New))\n",
    "\n",
    "$ H_A $: 𝜇 1> 𝜇 2 (alternative hypothesis contradicts the null saying that the conversion for the new page is greater)"
   ]
  },
  {
   "cell_type": "markdown",
   "id": "2e27373b",
   "metadata": {
    "lang": "es"
   },
   "source": [
    "### Step 2: Select the right test"
   ]
  },
  {
   "cell_type": "markdown",
   "id": "76b1e54f",
   "metadata": {
    "lang": "es"
   },
   "source": [
    "This is proof of a tail on two population proportions of two independent populations. ** Based on this information, select the appropriate test **."
   ]
  },
  {
   "cell_type": "markdown",
   "id": "9585eec2",
   "metadata": {},
   "source": [
    "# <a name = 'link9'> ** The appropriate test is: two proportions z ** </a>"
   ]
  },
  {
   "cell_type": "markdown",
   "id": "1efee1d5",
   "metadata": {
    "lang": "es"
   },
   "source": [
    "### Step 3: Decide the level of significance"
   ]
  },
  {
   "cell_type": "markdown",
   "id": "886cdd26",
   "metadata": {
    "lang": "es"
   },
   "source": [
    "As indicated in the problem statement, we select α = 0.05."
   ]
  },
  {
   "cell_type": "markdown",
   "id": "66d08ad2",
   "metadata": {
    "lang": "es"
   },
   "source": [
    "### Step 4: Collect and prepare data"
   ]
  },
  {
   "cell_type": "code",
   "execution_count": 153,
   "id": "Sbtfr2N6INtG",
   "metadata": {
    "id": "Sbtfr2N6INtG"
   },
   "outputs": [
    {
     "name": "stdout",
     "output_type": "stream",
     "text": [
      "El número de usuarios atendidos en las páginas nueva y antigua es 50 y 50 respectivamente\n"
     ]
    }
   ],
   "source": [
    "# The number of users converted into the treatment group is calculated.new_converted = df[df['group'] == 'treatment']['converted'].value_counts()['yes']\n",
    "# The number of users converted into the control group is calculatedold_converted = df[df['group'] == 'control']['converted'].value_counts()['yes'] \n",
    "\n",
    "# The N_Control variable for the total number of users in the control group is createdn_control = df.group.value_counts()['control'] \n",
    "# The N_Tratment variable for the total number of users in the treatment group is createdn_treatment = df.group.value_counts()['treatment'] \n",
    "\n",
    "print('El número de usuarios atendidos en las páginas nueva y antigua es {0} y {1} respectivamente'.format(n_control, n_treatment ))"
   ]
  },
  {
   "cell_type": "markdown",
   "id": "e719a287",
   "metadata": {
    "lang": "es"
   },
   "source": [
    "### Step 5: Calculate the value P"
   ]
  },
  {
   "cell_type": "code",
   "execution_count": 154,
   "id": "0kAItTuKI-88",
   "metadata": {
    "id": "0kAItTuKI-88"
   },
   "outputs": [
    {
     "name": "stdout",
     "output_type": "stream",
     "text": [
      "The p-value is 0.008026308204056278\n"
     ]
    }
   ],
   "source": [
    "# We import the required functionfrom statsmodels.stats.proportion import proportions_ztest\n",
    "\n",
    "# Based on the formuna of:test_stat, p_value = proportions_ztest([new_converted, old_converted] , [n_treatment, n_control], alternative ='larger') \n",
    "# Where the alternative is greater\n",
    "print('The p-value is', p_value)"
   ]
  },
  {
   "cell_type": "markdown",
   "id": "3e012c23",
   "metadata": {
    "lang": "es"
   },
   "source": [
    "### Step 6: Compare the P value with $ \\ alpha $"
   ]
  },
  {
   "cell_type": "code",
   "execution_count": 155,
   "id": "OTR1ANvmI-88",
   "metadata": {
    "id": "OTR1ANvmI-88"
   },
   "outputs": [
    {
     "name": "stdout",
     "output_type": "stream",
     "text": [
      "Como el valor p 0.008026308204056278 es menor que el nivel de significación, rechazamos la hipótesis nula.\n"
     ]
    }
   ],
   "source": [
    "# print the conclusion based on P-Valueif p_value < 0.05:\n",
    "    print(f'Como el valor p {p_value} es menor que el nivel de significación, rechazamos la hipótesis nula.')\n",
    "else:\n",
    "    print(f'Como el valor p {p_value} es mayor que el nivel de significación, no podemos rechazar la hipótesis nula.')"
   ]
  },
  {
   "cell_type": "markdown",
   "id": "c2fd6f06",
   "metadata": {
    "lang": "es"
   },
   "source": [
    "### Step 7: Extract inference"
   ]
  },
  {
   "cell_type": "markdown",
   "id": "62b9314e",
   "metadata": {},
   "source": [
    "> Since the P value is less than the level of significance (5%), we reject the null hypothesis.Therefore, we have enough statistical evidence to say the new page is greater than the conversion rate of the previous page."
   ]
  },
  {
   "cell_type": "markdown",
   "id": "u_KsjYc_I-89",
   "metadata": {
    "id": "u_KsjYc_I-89"
   },
   "source": [
    "\n",
    "\n"
   ]
  },
  {
   "cell_type": "markdown",
   "id": "e87394af",
   "metadata": {
    "lang": "es"
   },
   "source": [
    "## 3. Does the converted state depend on the preferred language?"
   ]
  },
  {
   "cell_type": "markdown",
   "id": "53216bab",
   "metadata": {
    "lang": "es"
   },
   "source": [
    "### Perform visual analysis"
   ]
  },
  {
   "cell_type": "code",
   "execution_count": 156,
   "id": "1l_ue1yEJUHf",
   "metadata": {
    "id": "1l_ue1yEJUHf"
   },
   "outputs": [
    {
     "data": {
      "image/png": "[encoded data removed]",
      "text/plain": [
       "<Figure size 432x576 with 1 Axes>"
      ]
     },
     "metadata": {
      "needs_background": "light"
     },
     "output_type": "display_data"
    }
   ],
   "source": [
    "# Complete the code to visually draw the dependency between the conversion status and the preferred languagepd.crosstab(df['converted'],df['language_preferred'],normalize='index').plot(kind=\"bar\", figsize=(6,8), stacked=True)\n",
    "plt.legend()\n",
    "plt.show()\n"
   ]
  },
  {
   "cell_type": "markdown",
   "id": "fe0ab27f",
   "metadata": {},
   "source": [
    "> Observing the graph carefully, it is not shown much or rather any evidence that can tell us that the converted state depends on the preferred language"
   ]
  },
  {
   "cell_type": "markdown",
   "id": "ef71f663",
   "metadata": {
    "lang": "es"
   },
   "source": [
    "### Step 1: Define the null and alternative hypothesis"
   ]
  },
  {
   "cell_type": "markdown",
   "id": "q86NUDAZLnbR",
   "metadata": {
    "id": "q86NUDAZLnbR"
   },
   "source": [
    "$ H_0: $ The converted state and the preferred language are independent of each other\n",
    "$ H_A: $ the converted state and the preferred language depend on each other"
   ]
  },
  {
   "cell_type": "markdown",
   "id": "d96fb5d9",
   "metadata": {
    "lang": "es"
   },
   "source": [
    "### Step 2: Select the right test"
   ]
  },
  {
   "cell_type": "markdown",
   "id": "f17d78ca",
   "metadata": {
    "lang": "es"
   },
   "source": [
    "This is a problem of the independence test, which concerns two categorical variables: converted status and preferred language. ** Based on this information, select the right test. **"
   ]
  },
  {
   "cell_type": "markdown",
   "id": "0f8b65e5",
   "metadata": {},
   "source": [
    "# <a name = 'link9'> ** The appropriate test is: Chi-square test for independence ** </a>"
   ]
  },
  {
   "cell_type": "markdown",
   "id": "9db9337e",
   "metadata": {
    "lang": "es"
   },
   "source": [
    "### Step 3: Decide the level of significance"
   ]
  },
  {
   "cell_type": "markdown",
   "id": "cd719925",
   "metadata": {
    "lang": "es"
   },
   "source": [
    "As indicated in the problem statement, we select α = 0.05."
   ]
  },
  {
   "cell_type": "markdown",
   "id": "bbc8d3ab",
   "metadata": {
    "lang": "es"
   },
   "source": [
    "### Step 4: Collect and prepare data"
   ]
  },
  {
   "cell_type": "code",
   "execution_count": 157,
   "id": "zzvjITNZJUHh",
   "metadata": {
    "id": "zzvjITNZJUHh"
   },
   "outputs": [
    {
     "data": {
      "text/html": [
       "<div>\n",
       "<style scoped>\n",
       "    .dataframe tbody tr th:only-of-type {\n",
       "        vertical-align: middle;\n",
       "    }\n",
       "\n",
       "    .dataframe tbody tr th {\n",
       "        vertical-align: top;\n",
       "    }\n",
       "\n",
       "    .dataframe thead th {\n",
       "        text-align: right;\n",
       "    }\n",
       "</style>\n",
       "<table border=\"1\" class=\"dataframe\">\n",
       "  <thead>\n",
       "    <tr style=\"text-align: right;\">\n",
       "      <th>language_preferred</th>\n",
       "      <th>English</th>\n",
       "      <th>French</th>\n",
       "      <th>Spanish</th>\n",
       "    </tr>\n",
       "    <tr>\n",
       "      <th>converted</th>\n",
       "      <th></th>\n",
       "      <th></th>\n",
       "      <th></th>\n",
       "    </tr>\n",
       "  </thead>\n",
       "  <tbody>\n",
       "    <tr>\n",
       "      <th>no</th>\n",
       "      <td>11</td>\n",
       "      <td>19</td>\n",
       "      <td>16</td>\n",
       "    </tr>\n",
       "    <tr>\n",
       "      <th>yes</th>\n",
       "      <td>21</td>\n",
       "      <td>15</td>\n",
       "      <td>18</td>\n",
       "    </tr>\n",
       "  </tbody>\n",
       "</table>\n",
       "</div>"
      ],
      "text/plain": [
       "language_preferred  English  French  Spanish\n",
       "converted                                   \n",
       "no                       11      19       16\n",
       "yes                      21      15       18"
      ]
     },
     "execution_count": 157,
     "metadata": {},
     "output_type": "execute_result"
    }
   ],
   "source": [
    "# A contingency table is created that shows the distribution of the two categorical variablescontingency_table = pd.crosstab(df['converted'], df['language_preferred'])  \n",
    "\n",
    "contingency_table"
   ]
  },
  {
   "cell_type": "markdown",
   "id": "66afb40d",
   "metadata": {
    "lang": "es"
   },
   "source": [
    "### Step 5: Calculate the value P"
   ]
  },
  {
   "cell_type": "code",
   "execution_count": 158,
   "id": "5T87wmlEJUHh",
   "metadata": {
    "id": "5T87wmlEJUHh"
   },
   "outputs": [
    {
     "name": "stdout",
     "output_type": "stream",
     "text": [
      "The p-value is 0.21298887487543447\n"
     ]
    }
   ],
   "source": [
    "# We import the Chi2_Contingency function to do the testfrom scipy.stats import chi2_contingency\n",
    "\n",
    "# Based on the chi2_contingency formula we have:chi2, p_value, dof, exp_freq = chi2_contingency(contingency_table)  \n",
    "\n",
    "print('The p-value is', p_value)"
   ]
  },
  {
   "cell_type": "markdown",
   "id": "73fd04ed",
   "metadata": {
    "lang": "es"
   },
   "source": [
    "### Step 6: Compare the P value with $ \\ alpha $"
   ]
  },
  {
   "cell_type": "code",
   "execution_count": 159,
   "id": "z4i5F7TTJUHh",
   "metadata": {
    "id": "z4i5F7TTJUHh"
   },
   "outputs": [
    {
     "name": "stdout",
     "output_type": "stream",
     "text": [
      "Como el valor p 0.21298887487543447 es mayor que el nivel de significación, no podemos rechazar la hipótesis nula.\n"
     ]
    }
   ],
   "source": [
    "# To be able to conclude we ask for the p_value valueif p_value < 0.05:\n",
    "    print(f'Como el valor p {p_value} es menor que el nivel de significación, rechazamos la hipótesis nula.')\n",
    "else:\n",
    "    print(f'Como el valor p {p_value} es mayor que el nivel de significación, no podemos rechazar la hipótesis nula.')"
   ]
  },
  {
   "cell_type": "markdown",
   "id": "b4b510d3",
   "metadata": {
    "lang": "es"
   },
   "source": [
    "### Step 7: Extract inference"
   ]
  },
  {
   "cell_type": "markdown",
   "id": "474b12a4",
   "metadata": {},
   "source": [
    "> Since the P value is greater than the level of significance of 5%, we do not reject the null hypothesis.Therefore, we do not have enough statistical evidence to say that the converted state depends on the preferred language"
   ]
  },
  {
   "cell_type": "markdown",
   "id": "nWL_M80mJUHi",
   "metadata": {
    "id": "nWL_M80mJUHi"
   },
   "source": [
    "\n",
    "\n"
   ]
  },
  {
   "cell_type": "markdown",
   "id": "bc73dbfd",
   "metadata": {
    "lang": "es"
   },
   "source": [
    "## 4. Is the time dedicated to the new page the same for users in different languages?"
   ]
  },
  {
   "cell_type": "markdown",
   "id": "eb704cb9",
   "metadata": {
    "lang": "es"
   },
   "source": [
    "### Perform visual analysis"
   ]
  },
  {
   "cell_type": "code",
   "execution_count": 160,
   "id": "c8f1e4d4",
   "metadata": {
    "id": "c8f1e4d4"
   },
   "outputs": [],
   "source": [
    "# Dataframe is created for users who liked the new pagedf_new = df[df['landing_page'] == 'new']"
   ]
  },
  {
   "cell_type": "code",
   "execution_count": 161,
   "id": "juWwwrwzKmOa",
   "metadata": {
    "id": "juWwwrwzKmOa"
   },
   "outputs": [
    {
     "data": {
      "image/png": "[encoded data removed]",
      "text/plain": [
       "<Figure size 576x576 with 1 Axes>"
      ]
     },
     "metadata": {
      "needs_background": "light"
     },
     "output_type": "display_data"
    }
   ],
   "source": [
    "# Code to visually draw the time invested in the new page for users in different languagesplt.figure(figsize=(8,8))\n",
    "sns.boxplot(x = 'time_spent_on_the_page', y = 'language_preferred', showmeans = True, data = df_new)\n",
    "plt.show()\n"
   ]
  },
  {
   "cell_type": "markdown",
   "id": "a27855b9",
   "metadata": {},
   "source": [
    "* The distribution of last time on the pages seems to differ between the three languages.* The English language seems to impact the new page.* The median of the past time on the pages seems to be closer to the languages ​​of English and Spanish, but the variation is lower for the French language."
   ]
  },
  {
   "cell_type": "code",
   "execution_count": 162,
   "id": "9vqA04lsK_aZ",
   "metadata": {
    "id": "9vqA04lsK_aZ"
   },
   "outputs": [
    {
     "data": {
      "text/plain": [
       "language_preferred\n",
       "English    6.663750\n",
       "French     6.196471\n",
       "Spanish    5.835294\n",
       "Name: time_spent_on_the_page, dtype: float64"
      ]
     },
     "execution_count": 162,
     "metadata": {},
     "output_type": "execute_result"
    }
   ],
   "source": [
    "# The past average time is calculated on the new page for users in different languagesdf_new.groupby(['language_preferred'])['time_spent_on_the_page'].mean()\n"
   ]
  },
  {
   "cell_type": "markdown",
   "id": "7432fb5d",
   "metadata": {
    "lang": "es"
   },
   "source": [
    "### Step 1: Define the null and alternative hypothesis"
   ]
  },
  {
   "cell_type": "markdown",
   "id": "gz8FnmCvMio1",
   "metadata": {
    "id": "gz8FnmCvMio1"
   },
   "source": [
    "$ H_0: $ The time dedicated to the new page is the same for users in different languages\n",
    "$ H_A: $ at least one language is different in \"time spent\" to the new page for users"
   ]
  },
  {
   "cell_type": "markdown",
   "id": "9f211779",
   "metadata": {
    "lang": "es"
   },
   "source": [
    "### Step 2: Select the right test"
   ]
  },
  {
   "cell_type": "markdown",
   "id": "68b09093",
   "metadata": {
    "lang": "es"
   },
   "source": [
    "This is a problem related to three population averages. ** Based on this information, select the right test to compare the means of the three populations. **"
   ]
  },
  {
   "cell_type": "markdown",
   "id": "e44813ee",
   "metadata": {},
   "source": [
    "# <a name = 'link9'> ** The appropriate test is: unidirectional anava taava ** </a>"
   ]
  },
  {
   "cell_type": "markdown",
   "id": "8d834cce",
   "metadata": {
    "lang": "es"
   },
   "source": [
    "### Step 3: Decide the level of significance"
   ]
  },
  {
   "cell_type": "markdown",
   "id": "7831662a",
   "metadata": {
    "lang": "es"
   },
   "source": [
    "As indicated in the problem statement, we select α = 0.05."
   ]
  },
  {
   "cell_type": "markdown",
   "id": "6d8d4b7d",
   "metadata": {
    "lang": "es"
   },
   "source": [
    "### Step 4: Collect and prepare data"
   ]
  },
  {
   "cell_type": "code",
   "execution_count": 163,
   "id": "XThNwfviKmOd",
   "metadata": {
    "id": "XThNwfviKmOd"
   },
   "outputs": [],
   "source": [
    "# A sub -schedu# They pass on the new pagetime_spent_English = df_new[df_new['language_preferred']==\"English\"]['time_spent_on_the_page']\n",
    "# A sub -scheduled frame is created of the time of permanence on the new page by users# of the French and Spanish language, respectively.time_spent_French = df_new[df_new['language_preferred']=='French']['time_spent_on_the_page']   # complete your code here\n",
    "time_spent_Spanish = df_new[df_new['language_preferred']=='Spanish']['time_spent_on_the_page']   # complete your code here"
   ]
  },
  {
   "cell_type": "markdown",
   "id": "00d91540",
   "metadata": {
    "lang": "es"
   },
   "source": [
    "### Step 5: Calculate the value P"
   ]
  },
  {
   "cell_type": "code",
   "execution_count": 164,
   "id": "D_jngM0gKmOd",
   "metadata": {
    "id": "D_jngM0gKmOd"
   },
   "outputs": [
    {
     "name": "stdout",
     "output_type": "stream",
     "text": [
      "The p-value is 0.43204138694325955\n"
     ]
    }
   ],
   "source": [
    "# We import the f_oneway function to do the ANOVA testfrom scipy.stats import f_oneway\n",
    "\n",
    "# We write the f_oneway function with the correct parameterstest_stat, p_value = f_oneway(time_spent_English, time_spent_French, time_spent_Spanish)\n",
    "\n",
    "print('The p-value is', p_value)"
   ]
  },
  {
   "cell_type": "markdown",
   "id": "2a4cd0c2",
   "metadata": {
    "lang": "es"
   },
   "source": [
    "### Step 6: Compare the P value with $ \\ alpha $"
   ]
  },
  {
   "cell_type": "code",
   "execution_count": 165,
   "id": "Ep85AInOKmOe",
   "metadata": {
    "id": "Ep85AInOKmOe"
   },
   "outputs": [
    {
     "name": "stdout",
     "output_type": "stream",
     "text": [
      "Como el valor p 0.43204138694325955 es mayor que el nivel de significación, no podemos rechazar la hipótesis nula.\n"
     ]
    }
   ],
   "source": [
    "# We validate the value of P-Value to get to reject or not the hypothesisif p_value < 0.05:\n",
    "    print(f'Como el valor p {p_value} es menor que el nivel de significación, rechazamos la hipótesis nula.')\n",
    "else:\n",
    "    print(f'Como el valor p {p_value} es mayor que el nivel de significación, no podemos rechazar la hipótesis nula.')"
   ]
  },
  {
   "cell_type": "markdown",
   "id": "f322e58b",
   "metadata": {
    "lang": "es"
   },
   "source": [
    "### Step 7: Extract inference"
   ]
  },
  {
   "cell_type": "markdown",
   "id": "70bbaad3",
   "metadata": {},
   "source": [
    "> Since the P value is greater than the level of significance (5%), we do not reject the null hypothesis.Therefore, we do not have enough statistical evidence to say that at least one language is different in \"time spent\" to the new page by users"
   ]
  },
  {
   "cell_type": "markdown",
   "id": "i24loRuKKmOf",
   "metadata": {
    "id": "i24loRuKKmOf"
   },
   "source": [
    "\n",
    "\n"
   ]
  },
  {
   "cell_type": "markdown",
   "id": "902ce08d",
   "metadata": {},
   "source": [
    "## Conclusions"
   ]
  },
  {
   "cell_type": "markdown",
   "id": "ca043602",
   "metadata": {},
   "source": [
    "* Users spend most time on the new page (New) than in the old (Old).* The preferred language as the users spend on the page is English,followed by Spanish and finally is the French language.* The average of the new page (New) in past time in minutes is greater than the old (Old) page.* With the new page there are 7 minutes more than on the old page that a user spends time.* With the conversion, the average is 5.7 minutes a little more than 5.3 or 5.4 (which are the average and the median in thegiven statistic).* It is not much difference in the average on the new page and the old page. Only 3 minutes is not much.- From the sample data, we observe that- There is enough statistical evidence to say the new page is greater than the conversion rate of the previous page.- There is enough statistical evidence to say that users spend most of the time on the new page.- There is not enough statistical evidence to say that the converted state depends on the preferred language.- There is not enough statistical evidence to say that at least one language is different in \"time spent\" to the new page for users."
   ]
  },
  {
   "cell_type": "markdown",
   "id": "91ef0e0f",
   "metadata": {},
   "source": [
    "## Commercial recommendations"
   ]
  },
  {
   "cell_type": "markdown",
   "id": "ad987ee5",
   "metadata": {},
   "source": [
    "1. The column or the User_id field will not provide significant information, since it is a single identifier. (key)2. It would be good to have a small survey for subscribed users asking them that they like the old pageto incorporate or respected (if removed) to the new page in terms of content.3. Eliminate the old internet page once you have the certainty that it is no longer feasible to have it above, so thatUsers enter the new page and maintenance, lower costs.4. Do a survey to users signed for improvements in terms of content of the new page and evaluate the proposalsof the survey.5. Make an analysis and/or comparison with the news pages of the competition in terms of content and verify theContent of the new page and overcome the competition pages, given that it is a new page.6. Review the content of the entire page, in all its news categories, shows, sports, news, fashion, finance,Etcetera weather.7. Do an analysis by the page categories to know how many users are in each category, (news, shows,Sports, Etcetera), and to be able to take actions for each category to raise the quality of the new page more."
   ]
  },
  {
   "cell_type": "markdown",
   "id": "ckDGNsMNT2On",
   "metadata": {
    "id": "ckDGNsMNT2On",
    "lang": "en"
   },
   "source": []
  },
  {
   "cell_type": "markdown",
   "id": "LePUSkNSx8ML",
   "metadata": {
    "id": "LePUSkNSx8ML"
   },
   "source": [
    "___"
   ]
  }
 ],
 "metadata": {
  "colab": {
   "collapsed_sections": [],
   "name": "ENews_Express_Learner_Notebook_Low_Code v1.1.ipynb",
   "provenance": []
  },
  "kernelspec": {
   "display_name": "Python 3 (ipykernel)",
   "language": "python",
   "name": "python3"
  },
  "language_info": {
   "codemirror_mode": {
    "name": "ipython",
    "version": 3
   },
   "file_extension": ".py",
   "mimetype": "text/x-python",
   "name": "python",
   "nbconvert_exporter": "python",
   "pygments_lexer": "ipython3",
   "version": "3.9.12"
  },
  "nbTranslate": {
   "displayLangs": [
    "es"
   ],
   "hotkey": "alt-t",
   "langInMainMenu": true,
   "sourceLang": "en",
   "targetLang": "es",
   "useGoogleTranslate": true
  }
 },
 "nbformat": 4,
 "nbformat_minor": 5
}
