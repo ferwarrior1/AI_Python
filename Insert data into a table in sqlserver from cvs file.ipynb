{
 "cells": [
  {
   "cell_type": "markdown",
   "id": "194bf67e",
   "metadata": {},
   "source": [
    "### Read a file in cvs and charge in MS sqlserver table - just as example\n",
    "> note: The table was previously created in MS sql server, but you can create the table with python code as well."
   ]
  },
  {
   "cell_type": "code",
   "execution_count": null,
   "id": "448616d0",
   "metadata": {},
   "outputs": [],
   "source": [
    "import pyodbc\n",
    "import pandas as pd"
   ]
  },
  {
   "cell_type": "code",
   "execution_count": 37,
   "id": "6325dca5",
   "metadata": {},
   "outputs": [],
   "source": [
    "# read the file csv\n",
    "df = pd.read_csv(\"department.csv\")\n"
   ]
  },
  {
   "cell_type": "code",
   "execution_count": 38,
   "id": "d147305c",
   "metadata": {},
   "outputs": [
    {
     "data": {
      "text/html": [
       "<div>\n",
       "<style scoped>\n",
       "    .dataframe tbody tr th:only-of-type {\n",
       "        vertical-align: middle;\n",
       "    }\n",
       "\n",
       "    .dataframe tbody tr th {\n",
       "        vertical-align: top;\n",
       "    }\n",
       "\n",
       "    .dataframe thead th {\n",
       "        text-align: right;\n",
       "    }\n",
       "</style>\n",
       "<table border=\"1\" class=\"dataframe\">\n",
       "  <thead>\n",
       "    <tr style=\"text-align: right;\">\n",
       "      <th></th>\n",
       "      <th>DepartmentID</th>\n",
       "      <th>Name</th>\n",
       "      <th>GroupName</th>\n",
       "    </tr>\n",
       "  </thead>\n",
       "  <tbody>\n",
       "    <tr>\n",
       "      <th>0</th>\n",
       "      <td>1</td>\n",
       "      <td>Engineering</td>\n",
       "      <td>Research and Development</td>\n",
       "    </tr>\n",
       "    <tr>\n",
       "      <th>1</th>\n",
       "      <td>2</td>\n",
       "      <td>Tool Design</td>\n",
       "      <td>Research and Development</td>\n",
       "    </tr>\n",
       "    <tr>\n",
       "      <th>2</th>\n",
       "      <td>3</td>\n",
       "      <td>Sales</td>\n",
       "      <td>Sales and Marketing</td>\n",
       "    </tr>\n",
       "    <tr>\n",
       "      <th>3</th>\n",
       "      <td>4</td>\n",
       "      <td>Marketing</td>\n",
       "      <td>Sales and Marketing</td>\n",
       "    </tr>\n",
       "    <tr>\n",
       "      <th>4</th>\n",
       "      <td>5</td>\n",
       "      <td>Purchasing</td>\n",
       "      <td>Inventory Management</td>\n",
       "    </tr>\n",
       "    <tr>\n",
       "      <th>5</th>\n",
       "      <td>6</td>\n",
       "      <td>Research and Development</td>\n",
       "      <td>Research and Development</td>\n",
       "    </tr>\n",
       "    <tr>\n",
       "      <th>6</th>\n",
       "      <td>7</td>\n",
       "      <td>Production</td>\n",
       "      <td>Manufacturing</td>\n",
       "    </tr>\n",
       "    <tr>\n",
       "      <th>7</th>\n",
       "      <td>8</td>\n",
       "      <td>Production Control</td>\n",
       "      <td>Manufacturing</td>\n",
       "    </tr>\n",
       "    <tr>\n",
       "      <th>8</th>\n",
       "      <td>9</td>\n",
       "      <td>Human Resources</td>\n",
       "      <td>Executive General and Administration</td>\n",
       "    </tr>\n",
       "    <tr>\n",
       "      <th>9</th>\n",
       "      <td>10</td>\n",
       "      <td>Finance</td>\n",
       "      <td>Executive General and Administration</td>\n",
       "    </tr>\n",
       "  </tbody>\n",
       "</table>\n",
       "</div>"
      ],
      "text/plain": [
       "   DepartmentID                      Name  \\\n",
       "0             1               Engineering   \n",
       "1             2               Tool Design   \n",
       "2             3                     Sales   \n",
       "3             4                 Marketing   \n",
       "4             5                Purchasing   \n",
       "5             6  Research and Development   \n",
       "6             7                Production   \n",
       "7             8        Production Control   \n",
       "8             9           Human Resources   \n",
       "9            10                   Finance   \n",
       "\n",
       "                              GroupName  \n",
       "0              Research and Development  \n",
       "1              Research and Development  \n",
       "2                   Sales and Marketing  \n",
       "3                   Sales and Marketing  \n",
       "4                  Inventory Management  \n",
       "5              Research and Development  \n",
       "6                         Manufacturing  \n",
       "7                         Manufacturing  \n",
       "8  Executive General and Administration  \n",
       "9  Executive General and Administration  "
      ]
     },
     "execution_count": 38,
     "metadata": {},
     "output_type": "execute_result"
    }
   ],
   "source": [
    "# show the 10 first of the csv file\n",
    "df.head(10)"
   ]
  },
  {
   "cell_type": "code",
   "execution_count": 45,
   "id": "17228f0a",
   "metadata": {},
   "outputs": [
    {
     "data": {
      "text/plain": [
       "(16, 3)"
      ]
     },
     "execution_count": 45,
     "metadata": {},
     "output_type": "execute_result"
    }
   ],
   "source": [
    "df.shape"
   ]
  },
  {
   "cell_type": "code",
   "execution_count": 46,
   "id": "c880eba7",
   "metadata": {},
   "outputs": [
    {
     "data": {
      "text/html": [
       "<div>\n",
       "<style scoped>\n",
       "    .dataframe tbody tr th:only-of-type {\n",
       "        vertical-align: middle;\n",
       "    }\n",
       "\n",
       "    .dataframe tbody tr th {\n",
       "        vertical-align: top;\n",
       "    }\n",
       "\n",
       "    .dataframe thead th {\n",
       "        text-align: right;\n",
       "    }\n",
       "</style>\n",
       "<table border=\"1\" class=\"dataframe\">\n",
       "  <thead>\n",
       "    <tr style=\"text-align: right;\">\n",
       "      <th></th>\n",
       "      <th>count</th>\n",
       "      <th>mean</th>\n",
       "      <th>std</th>\n",
       "      <th>min</th>\n",
       "      <th>25%</th>\n",
       "      <th>50%</th>\n",
       "      <th>75%</th>\n",
       "      <th>max</th>\n",
       "    </tr>\n",
       "  </thead>\n",
       "  <tbody>\n",
       "    <tr>\n",
       "      <th>DepartmentID</th>\n",
       "      <td>16.0</td>\n",
       "      <td>8.5</td>\n",
       "      <td>4.760952</td>\n",
       "      <td>1.0</td>\n",
       "      <td>4.75</td>\n",
       "      <td>8.5</td>\n",
       "      <td>12.25</td>\n",
       "      <td>16.0</td>\n",
       "    </tr>\n",
       "  </tbody>\n",
       "</table>\n",
       "</div>"
      ],
      "text/plain": [
       "              count  mean       std  min   25%  50%    75%   max\n",
       "DepartmentID   16.0   8.5  4.760952  1.0  4.75  8.5  12.25  16.0"
      ]
     },
     "execution_count": 46,
     "metadata": {},
     "output_type": "execute_result"
    }
   ],
   "source": [
    "df.describe().T"
   ]
  },
  {
   "cell_type": "code",
   "execution_count": 39,
   "id": "94e258d7",
   "metadata": {},
   "outputs": [],
   "source": [
    "# Create de connection with the MS sql server \n",
    "conn = pyodbc.connect('Driver={SQL Server};'\n",
    "                      'Server=FERNANDOGM;'\n",
    "                      'Database=Python;'\n",
    "                      'Trusted_Connection=yes;')"
   ]
  },
  {
   "cell_type": "code",
   "execution_count": 40,
   "id": "a78ae4fa",
   "metadata": {},
   "outputs": [],
   "source": [
    "# create and execute a query in the departament table to show if there is data\n",
    "query = (\"SELECT * FROM Departament\")\n",
    "cursor = conn.cursor()\n",
    "cursor.execute(query)\n",
    "for row in cursor:\n",
    "    print(row)"
   ]
  },
  {
   "cell_type": "code",
   "execution_count": 41,
   "id": "ff071599",
   "metadata": {},
   "outputs": [],
   "source": [
    "# create and execute the Insert to charge the departament table from the csv file\n",
    "for index, row in df.iterrows():\n",
    "    cursor.execute(\"INSERT INTO Departament (DepartmentID,Name,GroupName) values(?,?,?)\", row.DepartmentID, row.Name, row.GroupName)\n",
    "    conn.commit()"
   ]
  },
  {
   "cell_type": "code",
   "execution_count": 42,
   "id": "7752337a",
   "metadata": {},
   "outputs": [
    {
     "name": "stdout",
     "output_type": "stream",
     "text": [
      "(16, )\n"
     ]
    }
   ],
   "source": [
    "# create and execute a query to show the rows in the table department\n",
    "query = (\"SELECT count(*) FROM Departament\")\n",
    "cursor = conn.cursor()\n",
    "cursor.execute(query)\n",
    "for row in cursor:\n",
    "    print(row)"
   ]
  },
  {
   "cell_type": "code",
   "execution_count": 43,
   "id": "b19eefb0",
   "metadata": {},
   "outputs": [
    {
     "name": "stdout",
     "output_type": "stream",
     "text": [
      "(1, 'Engineering', 'Research and Development')\n",
      "(2, 'Tool Design', 'Research and Development')\n",
      "(3, 'Sales', 'Sales and Marketing')\n",
      "(4, 'Marketing', 'Sales and Marketing')\n",
      "(5, 'Purchasing', 'Inventory Management')\n",
      "(6, 'Research and Development', 'Research and Development')\n",
      "(7, 'Production', 'Manufacturing')\n",
      "(8, 'Production Control', 'Manufacturing')\n",
      "(9, 'Human Resources', 'Executive General and Administration')\n",
      "(10, 'Finance', 'Executive General and Administration')\n",
      "(11, 'Information Services', 'Executive General and Administration')\n",
      "(12, 'Document Control', 'Quality Assurance')\n",
      "(13, 'Quality Assurance', 'Quality Assurance')\n",
      "(14, 'Facilities and Maintenance', 'Executive General and Administration')\n",
      "(15, 'Shipping and Receiving', 'Inventory Management')\n",
      "(16, 'Executive', 'Executive General and Administration')\n"
     ]
    }
   ],
   "source": [
    "# create and execute a query to show the content in the table department\n",
    "query = (\"SELECT * FROM Departament\")\n",
    "cursor = conn.cursor()\n",
    "cursor.execute(query)\n",
    "for row in cursor:\n",
    "    print(row)"
   ]
  },
  {
   "cell_type": "code",
   "execution_count": 44,
   "id": "abf900df",
   "metadata": {},
   "outputs": [],
   "source": [
    "# close de connection\n",
    "conn.close()"
   ]
  },
  {
   "cell_type": "code",
   "execution_count": null,
   "id": "198a218a",
   "metadata": {},
   "outputs": [],
   "source": []
  }
 ],
 "metadata": {
  "kernelspec": {
   "display_name": "Python 3 (ipykernel)",
   "language": "python",
   "name": "python3"
  },
  "language_info": {
   "codemirror_mode": {
    "name": "ipython",
    "version": 3
   },
   "file_extension": ".py",
   "mimetype": "text/x-python",
   "name": "python",
   "nbconvert_exporter": "python",
   "pygments_lexer": "ipython3",
   "version": "3.9.12"
  }
 },
 "nbformat": 4,
 "nbformat_minor": 5
}
