{
 "cells": [
  {
   "cell_type": "markdown",
   "metadata": {},
   "source": [
    "\n",
    "The objective of this is to understand which parameters play an important role in the influence of the feedback of the passengers towards a positive scale. Test data that contain travel data and passenger survey data are provided. Both test data and train data are collected at the same time and belong to the same company.\n",
    "> As a data analyst, I must predict whether a passenger was delighted taking into account his general travel experience in Shinkansen (bullet train). For each passenger identification in the testing set, the \"Overal_Experience\" level must predict."
   ]
  },
  {
   "cell_type": "markdown",
   "metadata": {},
   "source": [
    "### Data set\n",
    "The problem consists of 2 separate data sets: travel data and survey data. The travel data has information related to the passengers and the performance of the train in which they traveled. The survey data are the aggregate data of the surveys collected after the service in the service. It is expected that both data sets such as without processing and perform the necessary cleaning or validation steps as necessary.\n",
    "\n",
    "### Metric by measuringYour score is the percentage of all correct predictions made by you. This is known simply as precision. The best precision is 1, while the worst is 0. It will be calculated as the total number of two correct predictions (true positive + true negative) divided by the total number of observations in the data set.\n",
    "### Shipping file format:\n",
    "You must send a CSV file with exactly 35602 entries plus a row of heading.The file must have exactly two columns\n",
    "• ID (ordered in any order)• Overall_Experience (contains 0 and 1, 1 represents delighted)\n",
    "\n",
    "### Work with dataThe data has been divided into two groups and provided in the module:• Training data set1. Traveldata_train_ (1) .csv2. Surveydata_train_ (1) .csv• Test data set1. Traveldata_test.csv2. Surveydata_test.csv\n",
    "The training set is used to create the automatic learning model. For the training set, we provide the overall_experience level for each participant.\n",
    "The test set should be used to see how well your model works in un view. For the set of evidence, it is your work to predict the level of \"general experience\" for each participant.\n",
    "Dictionary of dataAll data explain for themselves. The survey levels are explained in the Data Dictionary file."
   ]
  },
  {
   "cell_type": "code",
   "execution_count": 1,
   "metadata": {},
   "outputs": [],
   "source": [
    "# We will begin to load the necessary libraries of Python# Libraries to manipulate the dataimport numpy as np\n",
    "import pandas as pd\n",
    "# Libraries for data viewing as graphicsimport matplotlib.pyplot as plt\n",
    "import seaborn as sns"
   ]
  },
  {
   "cell_type": "code",
   "execution_count": 42,
   "metadata": {
    "id": "vl8RODw0PoHv"
   },
   "outputs": [],
   "source": [
    "# We load the training data (train) and test (test) file surveydata, which was provided to usdf_train = pd.read_csv('Surveydata_train_(1).csv')\n",
    "df_test = pd.read_csv('Surveydata_test.csv')"
   ]
  },
  {
   "cell_type": "code",
   "execution_count": 9,
   "metadata": {},
   "outputs": [
    {
     "data": {
      "text/html": [
       "<div>\n",
       "<style scoped>\n",
       "    .dataframe tbody tr th:only-of-type {\n",
       "        vertical-align: middle;\n",
       "    }\n",
       "\n",
       "    .dataframe tbody tr th {\n",
       "        vertical-align: top;\n",
       "    }\n",
       "\n",
       "    .dataframe thead th {\n",
       "        text-align: right;\n",
       "    }\n",
       "</style>\n",
       "<table border=\"1\" class=\"dataframe\">\n",
       "  <thead>\n",
       "    <tr style=\"text-align: right;\">\n",
       "      <th></th>\n",
       "      <th>ID</th>\n",
       "      <th>Overall_Experience</th>\n",
       "      <th>Seat_comfort</th>\n",
       "      <th>Seat_Class</th>\n",
       "      <th>Arrival_time_convenient</th>\n",
       "      <th>Catering</th>\n",
       "      <th>Platform_location</th>\n",
       "      <th>Onboardwifi_service</th>\n",
       "      <th>Onboard_entertainment</th>\n",
       "      <th>Online_support</th>\n",
       "      <th>Onlinebooking_Ease</th>\n",
       "      <th>Onboard_service</th>\n",
       "      <th>Leg_room</th>\n",
       "      <th>Baggage_handling</th>\n",
       "      <th>Checkin_service</th>\n",
       "      <th>Cleanliness</th>\n",
       "      <th>Online_boarding</th>\n",
       "    </tr>\n",
       "  </thead>\n",
       "  <tbody>\n",
       "    <tr>\n",
       "      <th>0</th>\n",
       "      <td>98800001</td>\n",
       "      <td>0</td>\n",
       "      <td>need improvement</td>\n",
       "      <td>Green Car</td>\n",
       "      <td>excellent</td>\n",
       "      <td>excellent</td>\n",
       "      <td>very convinient</td>\n",
       "      <td>good</td>\n",
       "      <td>need improvement</td>\n",
       "      <td>acceptable</td>\n",
       "      <td>need improvement</td>\n",
       "      <td>need improvement</td>\n",
       "      <td>acceptable</td>\n",
       "      <td>need improvement</td>\n",
       "      <td>good</td>\n",
       "      <td>need improvement</td>\n",
       "      <td>poor</td>\n",
       "    </tr>\n",
       "    <tr>\n",
       "      <th>1</th>\n",
       "      <td>98800002</td>\n",
       "      <td>0</td>\n",
       "      <td>poor</td>\n",
       "      <td>Ordinary</td>\n",
       "      <td>excellent</td>\n",
       "      <td>poor</td>\n",
       "      <td>need improvement</td>\n",
       "      <td>good</td>\n",
       "      <td>poor</td>\n",
       "      <td>good</td>\n",
       "      <td>good</td>\n",
       "      <td>excellent</td>\n",
       "      <td>need improvement</td>\n",
       "      <td>poor</td>\n",
       "      <td>need improvement</td>\n",
       "      <td>good</td>\n",
       "      <td>good</td>\n",
       "    </tr>\n",
       "    <tr>\n",
       "      <th>2</th>\n",
       "      <td>98800003</td>\n",
       "      <td>1</td>\n",
       "      <td>need improvement</td>\n",
       "      <td>Green Car</td>\n",
       "      <td>need improvement</td>\n",
       "      <td>need improvement</td>\n",
       "      <td>need improvement</td>\n",
       "      <td>need improvement</td>\n",
       "      <td>good</td>\n",
       "      <td>excellent</td>\n",
       "      <td>excellent</td>\n",
       "      <td>excellent</td>\n",
       "      <td>excellent</td>\n",
       "      <td>excellent</td>\n",
       "      <td>good</td>\n",
       "      <td>excellent</td>\n",
       "      <td>excellent</td>\n",
       "    </tr>\n",
       "    <tr>\n",
       "      <th>3</th>\n",
       "      <td>98800004</td>\n",
       "      <td>0</td>\n",
       "      <td>acceptable</td>\n",
       "      <td>Ordinary</td>\n",
       "      <td>need improvement</td>\n",
       "      <td>NaN</td>\n",
       "      <td>need improvement</td>\n",
       "      <td>acceptable</td>\n",
       "      <td>need improvement</td>\n",
       "      <td>acceptable</td>\n",
       "      <td>acceptable</td>\n",
       "      <td>acceptable</td>\n",
       "      <td>acceptable</td>\n",
       "      <td>acceptable</td>\n",
       "      <td>good</td>\n",
       "      <td>acceptable</td>\n",
       "      <td>acceptable</td>\n",
       "    </tr>\n",
       "    <tr>\n",
       "      <th>4</th>\n",
       "      <td>98800005</td>\n",
       "      <td>1</td>\n",
       "      <td>acceptable</td>\n",
       "      <td>Ordinary</td>\n",
       "      <td>acceptable</td>\n",
       "      <td>acceptable</td>\n",
       "      <td>manageable</td>\n",
       "      <td>need improvement</td>\n",
       "      <td>good</td>\n",
       "      <td>excellent</td>\n",
       "      <td>good</td>\n",
       "      <td>good</td>\n",
       "      <td>good</td>\n",
       "      <td>good</td>\n",
       "      <td>good</td>\n",
       "      <td>good</td>\n",
       "      <td>good</td>\n",
       "    </tr>\n",
       "  </tbody>\n",
       "</table>\n",
       "</div>"
      ],
      "text/plain": [
       "         ID  Overall_Experience      Seat_comfort Seat_Class  \\\n",
       "0  98800001                   0  need improvement  Green Car   \n",
       "1  98800002                   0              poor   Ordinary   \n",
       "2  98800003                   1  need improvement  Green Car   \n",
       "3  98800004                   0        acceptable   Ordinary   \n",
       "4  98800005                   1        acceptable   Ordinary   \n",
       "\n",
       "  Arrival_time_convenient          Catering Platform_location  \\\n",
       "0               excellent         excellent   very convinient   \n",
       "1               excellent              poor  need improvement   \n",
       "2        need improvement  need improvement  need improvement   \n",
       "3        need improvement               NaN  need improvement   \n",
       "4              acceptable        acceptable        manageable   \n",
       "\n",
       "  Onboardwifi_service Onboard_entertainment Online_support Onlinebooking_Ease  \\\n",
       "0                good      need improvement     acceptable   need improvement   \n",
       "1                good                  poor           good               good   \n",
       "2    need improvement                  good      excellent          excellent   \n",
       "3          acceptable      need improvement     acceptable         acceptable   \n",
       "4    need improvement                  good      excellent               good   \n",
       "\n",
       "    Onboard_service          Leg_room  Baggage_handling   Checkin_service  \\\n",
       "0  need improvement        acceptable  need improvement              good   \n",
       "1         excellent  need improvement              poor  need improvement   \n",
       "2         excellent         excellent         excellent              good   \n",
       "3        acceptable        acceptable        acceptable              good   \n",
       "4              good              good              good              good   \n",
       "\n",
       "        Cleanliness Online_boarding  \n",
       "0  need improvement            poor  \n",
       "1              good            good  \n",
       "2         excellent       excellent  \n",
       "3        acceptable      acceptable  \n",
       "4              good            good  "
      ]
     },
     "execution_count": 9,
     "metadata": {},
     "output_type": "execute_result"
    }
   ],
   "source": [
    "# We show the first 5 rows of the training data set (Train), with the Head Methoddf_train.head()"
   ]
  },
  {
   "cell_type": "code",
   "execution_count": 10,
   "metadata": {},
   "outputs": [
    {
     "data": {
      "text/html": [
       "<div>\n",
       "<style scoped>\n",
       "    .dataframe tbody tr th:only-of-type {\n",
       "        vertical-align: middle;\n",
       "    }\n",
       "\n",
       "    .dataframe tbody tr th {\n",
       "        vertical-align: top;\n",
       "    }\n",
       "\n",
       "    .dataframe thead th {\n",
       "        text-align: right;\n",
       "    }\n",
       "</style>\n",
       "<table border=\"1\" class=\"dataframe\">\n",
       "  <thead>\n",
       "    <tr style=\"text-align: right;\">\n",
       "      <th></th>\n",
       "      <th>ID</th>\n",
       "      <th>Seat_comfort</th>\n",
       "      <th>Seat_Class</th>\n",
       "      <th>Arrival_time_convenient</th>\n",
       "      <th>Catering</th>\n",
       "      <th>Platform_location</th>\n",
       "      <th>Onboardwifi_service</th>\n",
       "      <th>Onboard_entertainment</th>\n",
       "      <th>Online_support</th>\n",
       "      <th>Onlinebooking_Ease</th>\n",
       "      <th>Onboard_service</th>\n",
       "      <th>Leg_room</th>\n",
       "      <th>Baggage_handling</th>\n",
       "      <th>Checkin_service</th>\n",
       "      <th>Cleanliness</th>\n",
       "      <th>Online_boarding</th>\n",
       "    </tr>\n",
       "  </thead>\n",
       "  <tbody>\n",
       "    <tr>\n",
       "      <th>0</th>\n",
       "      <td>99900001</td>\n",
       "      <td>acceptable</td>\n",
       "      <td>Green Car</td>\n",
       "      <td>acceptable</td>\n",
       "      <td>acceptable</td>\n",
       "      <td>manageable</td>\n",
       "      <td>need improvement</td>\n",
       "      <td>excellent</td>\n",
       "      <td>good</td>\n",
       "      <td>excellent</td>\n",
       "      <td>excellent</td>\n",
       "      <td>excellent</td>\n",
       "      <td>excellent</td>\n",
       "      <td>good</td>\n",
       "      <td>excellent</td>\n",
       "      <td>poor</td>\n",
       "    </tr>\n",
       "    <tr>\n",
       "      <th>1</th>\n",
       "      <td>99900002</td>\n",
       "      <td>extremely poor</td>\n",
       "      <td>Ordinary</td>\n",
       "      <td>good</td>\n",
       "      <td>poor</td>\n",
       "      <td>manageable</td>\n",
       "      <td>acceptable</td>\n",
       "      <td>poor</td>\n",
       "      <td>acceptable</td>\n",
       "      <td>acceptable</td>\n",
       "      <td>excellent</td>\n",
       "      <td>acceptable</td>\n",
       "      <td>good</td>\n",
       "      <td>acceptable</td>\n",
       "      <td>excellent</td>\n",
       "      <td>acceptable</td>\n",
       "    </tr>\n",
       "    <tr>\n",
       "      <th>2</th>\n",
       "      <td>99900003</td>\n",
       "      <td>excellent</td>\n",
       "      <td>Ordinary</td>\n",
       "      <td>excellent</td>\n",
       "      <td>excellent</td>\n",
       "      <td>very convinient</td>\n",
       "      <td>excellent</td>\n",
       "      <td>excellent</td>\n",
       "      <td>excellent</td>\n",
       "      <td>need improvement</td>\n",
       "      <td>need improvement</td>\n",
       "      <td>need improvement</td>\n",
       "      <td>need improvement</td>\n",
       "      <td>good</td>\n",
       "      <td>need improvement</td>\n",
       "      <td>excellent</td>\n",
       "    </tr>\n",
       "    <tr>\n",
       "      <th>3</th>\n",
       "      <td>99900004</td>\n",
       "      <td>acceptable</td>\n",
       "      <td>Green Car</td>\n",
       "      <td>excellent</td>\n",
       "      <td>acceptable</td>\n",
       "      <td>very convinient</td>\n",
       "      <td>poor</td>\n",
       "      <td>acceptable</td>\n",
       "      <td>excellent</td>\n",
       "      <td>poor</td>\n",
       "      <td>acceptable</td>\n",
       "      <td>need improvement</td>\n",
       "      <td>excellent</td>\n",
       "      <td>excellent</td>\n",
       "      <td>excellent</td>\n",
       "      <td>poor</td>\n",
       "    </tr>\n",
       "    <tr>\n",
       "      <th>4</th>\n",
       "      <td>99900005</td>\n",
       "      <td>excellent</td>\n",
       "      <td>Ordinary</td>\n",
       "      <td>extremely poor</td>\n",
       "      <td>excellent</td>\n",
       "      <td>need improvement</td>\n",
       "      <td>excellent</td>\n",
       "      <td>excellent</td>\n",
       "      <td>excellent</td>\n",
       "      <td>excellent</td>\n",
       "      <td>NaN</td>\n",
       "      <td>acceptable</td>\n",
       "      <td>excellent</td>\n",
       "      <td>excellent</td>\n",
       "      <td>excellent</td>\n",
       "      <td>excellent</td>\n",
       "    </tr>\n",
       "  </tbody>\n",
       "</table>\n",
       "</div>"
      ],
      "text/plain": [
       "         ID    Seat_comfort Seat_Class Arrival_time_convenient    Catering  \\\n",
       "0  99900001      acceptable  Green Car              acceptable  acceptable   \n",
       "1  99900002  extremely poor   Ordinary                    good        poor   \n",
       "2  99900003       excellent   Ordinary               excellent   excellent   \n",
       "3  99900004      acceptable  Green Car               excellent  acceptable   \n",
       "4  99900005       excellent   Ordinary          extremely poor   excellent   \n",
       "\n",
       "  Platform_location Onboardwifi_service Onboard_entertainment Online_support  \\\n",
       "0        manageable    need improvement             excellent           good   \n",
       "1        manageable          acceptable                  poor     acceptable   \n",
       "2   very convinient           excellent             excellent      excellent   \n",
       "3   very convinient                poor            acceptable      excellent   \n",
       "4  need improvement           excellent             excellent      excellent   \n",
       "\n",
       "  Onlinebooking_Ease   Onboard_service          Leg_room  Baggage_handling  \\\n",
       "0          excellent         excellent         excellent         excellent   \n",
       "1         acceptable         excellent        acceptable              good   \n",
       "2   need improvement  need improvement  need improvement  need improvement   \n",
       "3               poor        acceptable  need improvement         excellent   \n",
       "4          excellent               NaN        acceptable         excellent   \n",
       "\n",
       "  Checkin_service       Cleanliness Online_boarding  \n",
       "0            good         excellent            poor  \n",
       "1      acceptable         excellent      acceptable  \n",
       "2            good  need improvement       excellent  \n",
       "3       excellent         excellent            poor  \n",
       "4       excellent         excellent       excellent  "
      ]
     },
     "execution_count": 10,
     "metadata": {},
     "output_type": "execute_result"
    }
   ],
   "source": [
    "# We show the first 5 rows of the preuba data set (test), with the Head methoddf_test.head()"
   ]
  },
  {
   "cell_type": "code",
   "execution_count": 37,
   "metadata": {},
   "outputs": [
    {
     "data": {
      "text/plain": [
       "(94379, 71)"
      ]
     },
     "execution_count": 37,
     "metadata": {},
     "output_type": "execute_result"
    }
   ],
   "source": [
    "# With Shape we observe the amount of rows and columns of the training file (Train)df_train.shape"
   ]
  },
  {
   "cell_type": "markdown",
   "metadata": {},
   "source": [
    "- The training file (Train) has 94379 rows and 71 columns"
   ]
  },
  {
   "cell_type": "code",
   "execution_count": 38,
   "metadata": {},
   "outputs": [
    {
     "data": {
      "text/plain": [
       "(35602, 65)"
      ]
     },
     "execution_count": 38,
     "metadata": {},
     "output_type": "execute_result"
    }
   ],
   "source": [
    "# With Shape we observe the number of rows and columns of the test file (test)df_test.shape"
   ]
  },
  {
   "cell_type": "markdown",
   "metadata": {},
   "source": [
    "- The test file (test) has 35602 rows and 65 columns"
   ]
  },
  {
   "cell_type": "code",
   "execution_count": 11,
   "metadata": {
    "id": "xh00C2tIPoHw",
    "outputId": "252fa17c-71a6-49ce-a1d9-fe0eb38679f0"
   },
   "outputs": [
    {
     "data": {
      "text/plain": [
       "1    51593\n",
       "0    42786\n",
       "Name: Overall_Experience, dtype: int64"
      ]
     },
     "execution_count": 11,
     "metadata": {},
     "output_type": "execute_result"
    }
   ],
   "source": [
    "# We show how the counting of the Overall Experience column in training data is distributed# With the Method Value_Couts we show this countdf_train['Overall_Experience'].value_counts()"
   ]
  },
  {
   "cell_type": "markdown",
   "metadata": {},
   "source": [
    "- The Experience Overall column has an amount of 51593 for number 1 (delighted) and a 42786 number forUsers who are not delighted or satisfied. It is a little more than 50% that are delighted."
   ]
  },
  {
   "cell_type": "markdown",
   "metadata": {
    "id": "RaFMWyEEPoH7",
    "lang": "es"
   },
   "source": [
    "### We check the data types of the variables"
   ]
  },
  {
   "cell_type": "code",
   "execution_count": 14,
   "metadata": {
    "id": "YjUrNnLWPoH8",
    "outputId": "42fc9ce2-63f8-432d-9f81-8b9fcd6be49b"
   },
   "outputs": [
    {
     "name": "stdout",
     "output_type": "stream",
     "text": [
      "<class 'pandas.core.frame.DataFrame'>\n",
      "RangeIndex: 94379 entries, 0 to 94378\n",
      "Data columns (total 17 columns):\n",
      " #   Column                   Non-Null Count  Dtype \n",
      "---  ------                   --------------  ----- \n",
      " 0   ID                       94379 non-null  int64 \n",
      " 1   Overall_Experience       94379 non-null  int64 \n",
      " 2   Seat_comfort             94318 non-null  object\n",
      " 3   Seat_Class               94379 non-null  object\n",
      " 4   Arrival_time_convenient  85449 non-null  object\n",
      " 5   Catering                 85638 non-null  object\n",
      " 6   Platform_location        94349 non-null  object\n",
      " 7   Onboardwifi_service      94349 non-null  object\n",
      " 8   Onboard_entertainment    94361 non-null  object\n",
      " 9   Online_support           94288 non-null  object\n",
      " 10  Onlinebooking_Ease       94306 non-null  object\n",
      " 11  Onboard_service          86778 non-null  object\n",
      " 12  Leg_room                 94289 non-null  object\n",
      " 13  Baggage_handling         94237 non-null  object\n",
      " 14  Checkin_service          94302 non-null  object\n",
      " 15  Cleanliness              94373 non-null  object\n",
      " 16  Online_boarding          94373 non-null  object\n",
      "dtypes: int64(2), object(15)\n",
      "memory usage: 12.2+ MB\n"
     ]
    }
   ],
   "source": [
    "# With the info command we show the data type in the variables or columns of the training file (Train)df_train.info()"
   ]
  },
  {
   "cell_type": "markdown",
   "metadata": {},
   "source": [
    "- The training file (Train) has two whole columns (INT64) that are ID and Overall_Experience, all the other columnsThey are object type."
   ]
  },
  {
   "cell_type": "code",
   "execution_count": 15,
   "metadata": {},
   "outputs": [
    {
     "name": "stdout",
     "output_type": "stream",
     "text": [
      "<class 'pandas.core.frame.DataFrame'>\n",
      "RangeIndex: 35602 entries, 0 to 35601\n",
      "Data columns (total 16 columns):\n",
      " #   Column                   Non-Null Count  Dtype \n",
      "---  ------                   --------------  ----- \n",
      " 0   ID                       35602 non-null  int64 \n",
      " 1   Seat_comfort             35580 non-null  object\n",
      " 2   Seat_Class               35602 non-null  object\n",
      " 3   Arrival_time_convenient  32277 non-null  object\n",
      " 4   Catering                 32245 non-null  object\n",
      " 5   Platform_location        35590 non-null  object\n",
      " 6   Onboardwifi_service      35590 non-null  object\n",
      " 7   Onboard_entertainment    35594 non-null  object\n",
      " 8   Online_support           35576 non-null  object\n",
      " 9   Onlinebooking_Ease       35584 non-null  object\n",
      " 10  Onboard_service          32730 non-null  object\n",
      " 11  Leg_room                 35577 non-null  object\n",
      " 12  Baggage_handling         35562 non-null  object\n",
      " 13  Checkin_service          35580 non-null  object\n",
      " 14  Cleanliness              35600 non-null  object\n",
      " 15  Online_boarding          35600 non-null  object\n",
      "dtypes: int64(1), object(15)\n",
      "memory usage: 4.3+ MB\n"
     ]
    }
   ],
   "source": [
    "# With the info command we show the data type in the variables or columns of the test file (test)df_test.info()"
   ]
  },
  {
   "cell_type": "markdown",
   "metadata": {},
   "source": [
    "- The test file (test) has an integer column (int64) that is ID and Overall_Experience, all the other columnsThey are object type."
   ]
  },
  {
   "cell_type": "markdown",
   "metadata": {
    "id": "oiWL3NGfPoH9",
    "lang": "es"
   },
   "source": [
    "### Verification of null values"
   ]
  },
  {
   "cell_type": "code",
   "execution_count": 16,
   "metadata": {
    "id": "nn_E8aGCPoH9",
    "outputId": "b3bd3b50-5690-44a0-d9cb-1f8ee63f0e63"
   },
   "outputs": [
    {
     "data": {
      "text/plain": [
       "ID                            0\n",
       "Overall_Experience            0\n",
       "Seat_comfort                 61\n",
       "Seat_Class                    0\n",
       "Arrival_time_convenient    8930\n",
       "Catering                   8741\n",
       "Platform_location            30\n",
       "Onboardwifi_service          30\n",
       "Onboard_entertainment        18\n",
       "Online_support               91\n",
       "Onlinebooking_Ease           73\n",
       "Onboard_service            7601\n",
       "Leg_room                     90\n",
       "Baggage_handling            142\n",
       "Checkin_service              77\n",
       "Cleanliness                   6\n",
       "Online_boarding               6\n",
       "dtype: int64"
      ]
     },
     "execution_count": 16,
     "metadata": {},
     "output_type": "execute_result"
    }
   ],
   "source": [
    "# We verify if there are null values ​​in training data (Train)# With the ISNULL and SUM methods we verify if there are null valuesdf_train.isnull().sum()"
   ]
  },
  {
   "cell_type": "markdown",
   "metadata": {},
   "source": [
    "- There are many null data in the training file (Train), but there are more null values ​​in the columns ofArrival_time_convenient, catering and onboard_service. The other columns although they have null values, given the amount ofData throughout the file is not of great consideration."
   ]
  },
  {
   "cell_type": "code",
   "execution_count": 17,
   "metadata": {
    "id": "ugUgJdtRPoH-",
    "outputId": "80502def-9cac-493c-8dcc-a627259a755f",
    "scrolled": false
   },
   "outputs": [
    {
     "data": {
      "text/plain": [
       "ID                            0\n",
       "Seat_comfort                 22\n",
       "Seat_Class                    0\n",
       "Arrival_time_convenient    3325\n",
       "Catering                   3357\n",
       "Platform_location            12\n",
       "Onboardwifi_service          12\n",
       "Onboard_entertainment         8\n",
       "Online_support               26\n",
       "Onlinebooking_Ease           18\n",
       "Onboard_service            2872\n",
       "Leg_room                     25\n",
       "Baggage_handling             40\n",
       "Checkin_service              22\n",
       "Cleanliness                   2\n",
       "Online_boarding               2\n",
       "dtype: int64"
      ]
     },
     "execution_count": 17,
     "metadata": {},
     "output_type": "execute_result"
    }
   ],
   "source": [
    "# We verify if there are null values ​​in the test data (test)# With the ISNULL and SUM methods we verify if there are null valuesdf_test.isnull().sum()"
   ]
  },
  {
   "cell_type": "markdown",
   "metadata": {},
   "source": [
    "- Like the training file (Train) the test file (test), has many null values.There are also more null values ​​in the columns of Arrival_time_convenient, catering and onboard_service."
   ]
  },
  {
   "cell_type": "code",
   "execution_count": 43,
   "metadata": {},
   "outputs": [
    {
     "data": {
      "text/plain": [
       "0"
      ]
     },
     "execution_count": 43,
     "metadata": {},
     "output_type": "execute_result"
    }
   ],
   "source": [
    "# We are# With the duplicated and sum command we verify thisdf_train.duplicated().sum()"
   ]
  },
  {
   "cell_type": "code",
   "execution_count": 44,
   "metadata": {},
   "outputs": [
    {
     "data": {
      "text/plain": [
       "0"
      ]
     },
     "execution_count": 44,
     "metadata": {},
     "output_type": "execute_result"
    }
   ],
   "source": [
    "# We are# With the duplicated and sum command we verify thisdf_test.duplicated().sum()"
   ]
  },
  {
   "cell_type": "markdown",
   "metadata": {},
   "source": [
    "- There are no duplicate values ​​in training files (Train) and Test (Test)"
   ]
  },
  {
   "cell_type": "markdown",
   "metadata": {
    "id": "CXATzghAPoH-",
    "lang": "es"
   },
   "source": [
    "### Imputation of categorical values"
   ]
  },
  {
   "cell_type": "markdown",
   "metadata": {},
   "source": [
    "### Lost value treatment\n",
    "* We will use the fashion value to impute the missing values ​​in the arrival_hora_ -wing, catering and service on board columns. (Because they are the columns with too many lost data, the other columns have lost values ​​but not large amounts to be considered for imputation."
   ]
  },
  {
   "cell_type": "code",
   "execution_count": 46,
   "metadata": {
    "id": "JYsWoH8GPoH_"
   },
   "outputs": [],
   "source": [
    "df_train.loc[df_train['Arrival_time_convenient'].isnull() == True,'Arrival_time_convenient'] = df_train['Arrival_time_convenient'].mode()[0]\n",
    "df_test.loc[df_test['Arrival_time_convenient'].isnull() == True,'Arrival_time_convenient'] = df_train['Arrival_time_convenient'].mode()[0]\n",
    "\n",
    "df_train.loc[df_train['Catering'].isnull() == True,'Catering'] = df_train['Catering'].mode()[0]\n",
    "df_test.loc[df_test['Catering'].isnull() == True,'Catering'] = df_train['Catering'].mode()[0]\n",
    "\n",
    "df_train.loc[df_train['Onboard_service'].isnull() == True,'Onboard_service'] = df_train['Onboard_service'].mode()[0]\n",
    "df_test.loc[df_test['Onboard_service'].isnull() == True,'Onboard_service'] = df_train['Onboard_service'].mode()[0]"
   ]
  },
  {
   "cell_type": "markdown",
   "metadata": {
    "id": "mYKnpRbhPoH_",
    "lang": "es"
   },
   "source": [
    "### Delete unnecessary columns"
   ]
  },
  {
   "cell_type": "code",
   "execution_count": 48,
   "metadata": {
    "id": "LC34Zs8-PoIA"
   },
   "outputs": [],
   "source": [
    "# In our case the ID column both in the training file (Train) and test file (test) is not necessary# With the drop command the ID column is eliminateddf_train.drop('ID',axis = 1,inplace = True)\n",
    "test_file_ids = df_test['ID'] ## necessary step\n",
    "df_test.drop('ID',axis = 1,inplace = True)"
   ]
  },
  {
   "cell_type": "markdown",
   "metadata": {
    "id": "F3jlnSVFPoIA",
    "lang": "es"
   },
   "source": [
    "### Codification of categorical values"
   ]
  },
  {
   "cell_type": "code",
   "execution_count": 49,
   "metadata": {
    "id": "uhkHRmJZPoIB",
    "outputId": "5528b896-7027-4b59-b132-22e238e11cd8"
   },
   "outputs": [
    {
     "data": {
      "text/html": [
       "<div>\n",
       "<style scoped>\n",
       "    .dataframe tbody tr th:only-of-type {\n",
       "        vertical-align: middle;\n",
       "    }\n",
       "\n",
       "    .dataframe tbody tr th {\n",
       "        vertical-align: top;\n",
       "    }\n",
       "\n",
       "    .dataframe thead th {\n",
       "        text-align: right;\n",
       "    }\n",
       "</style>\n",
       "<table border=\"1\" class=\"dataframe\">\n",
       "  <thead>\n",
       "    <tr style=\"text-align: right;\">\n",
       "      <th></th>\n",
       "      <th>Overall_Experience</th>\n",
       "      <th>Seat_comfort_excellent</th>\n",
       "      <th>Seat_comfort_extremely poor</th>\n",
       "      <th>Seat_comfort_good</th>\n",
       "      <th>Seat_comfort_need improvement</th>\n",
       "      <th>Seat_comfort_poor</th>\n",
       "      <th>Seat_Class_Ordinary</th>\n",
       "      <th>Arrival_time_convenient_excellent</th>\n",
       "      <th>Arrival_time_convenient_extremely poor</th>\n",
       "      <th>Arrival_time_convenient_good</th>\n",
       "      <th>...</th>\n",
       "      <th>Cleanliness_excellent</th>\n",
       "      <th>Cleanliness_extremely poor</th>\n",
       "      <th>Cleanliness_good</th>\n",
       "      <th>Cleanliness_need improvement</th>\n",
       "      <th>Cleanliness_poor</th>\n",
       "      <th>Online_boarding_excellent</th>\n",
       "      <th>Online_boarding_extremely poor</th>\n",
       "      <th>Online_boarding_good</th>\n",
       "      <th>Online_boarding_need improvement</th>\n",
       "      <th>Online_boarding_poor</th>\n",
       "    </tr>\n",
       "  </thead>\n",
       "  <tbody>\n",
       "    <tr>\n",
       "      <th>0</th>\n",
       "      <td>0</td>\n",
       "      <td>0</td>\n",
       "      <td>0</td>\n",
       "      <td>0</td>\n",
       "      <td>1</td>\n",
       "      <td>0</td>\n",
       "      <td>0</td>\n",
       "      <td>1</td>\n",
       "      <td>0</td>\n",
       "      <td>0</td>\n",
       "      <td>...</td>\n",
       "      <td>0</td>\n",
       "      <td>0</td>\n",
       "      <td>0</td>\n",
       "      <td>1</td>\n",
       "      <td>0</td>\n",
       "      <td>0</td>\n",
       "      <td>0</td>\n",
       "      <td>0</td>\n",
       "      <td>0</td>\n",
       "      <td>1</td>\n",
       "    </tr>\n",
       "    <tr>\n",
       "      <th>1</th>\n",
       "      <td>0</td>\n",
       "      <td>0</td>\n",
       "      <td>0</td>\n",
       "      <td>0</td>\n",
       "      <td>0</td>\n",
       "      <td>1</td>\n",
       "      <td>1</td>\n",
       "      <td>1</td>\n",
       "      <td>0</td>\n",
       "      <td>0</td>\n",
       "      <td>...</td>\n",
       "      <td>0</td>\n",
       "      <td>0</td>\n",
       "      <td>1</td>\n",
       "      <td>0</td>\n",
       "      <td>0</td>\n",
       "      <td>0</td>\n",
       "      <td>0</td>\n",
       "      <td>1</td>\n",
       "      <td>0</td>\n",
       "      <td>0</td>\n",
       "    </tr>\n",
       "    <tr>\n",
       "      <th>2</th>\n",
       "      <td>1</td>\n",
       "      <td>0</td>\n",
       "      <td>0</td>\n",
       "      <td>0</td>\n",
       "      <td>1</td>\n",
       "      <td>0</td>\n",
       "      <td>0</td>\n",
       "      <td>0</td>\n",
       "      <td>0</td>\n",
       "      <td>0</td>\n",
       "      <td>...</td>\n",
       "      <td>1</td>\n",
       "      <td>0</td>\n",
       "      <td>0</td>\n",
       "      <td>0</td>\n",
       "      <td>0</td>\n",
       "      <td>1</td>\n",
       "      <td>0</td>\n",
       "      <td>0</td>\n",
       "      <td>0</td>\n",
       "      <td>0</td>\n",
       "    </tr>\n",
       "    <tr>\n",
       "      <th>3</th>\n",
       "      <td>0</td>\n",
       "      <td>0</td>\n",
       "      <td>0</td>\n",
       "      <td>0</td>\n",
       "      <td>0</td>\n",
       "      <td>0</td>\n",
       "      <td>1</td>\n",
       "      <td>0</td>\n",
       "      <td>0</td>\n",
       "      <td>0</td>\n",
       "      <td>...</td>\n",
       "      <td>0</td>\n",
       "      <td>0</td>\n",
       "      <td>0</td>\n",
       "      <td>0</td>\n",
       "      <td>0</td>\n",
       "      <td>0</td>\n",
       "      <td>0</td>\n",
       "      <td>0</td>\n",
       "      <td>0</td>\n",
       "      <td>0</td>\n",
       "    </tr>\n",
       "    <tr>\n",
       "      <th>4</th>\n",
       "      <td>1</td>\n",
       "      <td>0</td>\n",
       "      <td>0</td>\n",
       "      <td>0</td>\n",
       "      <td>0</td>\n",
       "      <td>0</td>\n",
       "      <td>1</td>\n",
       "      <td>0</td>\n",
       "      <td>0</td>\n",
       "      <td>0</td>\n",
       "      <td>...</td>\n",
       "      <td>0</td>\n",
       "      <td>0</td>\n",
       "      <td>1</td>\n",
       "      <td>0</td>\n",
       "      <td>0</td>\n",
       "      <td>0</td>\n",
       "      <td>0</td>\n",
       "      <td>1</td>\n",
       "      <td>0</td>\n",
       "      <td>0</td>\n",
       "    </tr>\n",
       "  </tbody>\n",
       "</table>\n",
       "<p>5 rows × 71 columns</p>\n",
       "</div>"
      ],
      "text/plain": [
       "   Overall_Experience  Seat_comfort_excellent  Seat_comfort_extremely poor  \\\n",
       "0                   0                       0                            0   \n",
       "1                   0                       0                            0   \n",
       "2                   1                       0                            0   \n",
       "3                   0                       0                            0   \n",
       "4                   1                       0                            0   \n",
       "\n",
       "   Seat_comfort_good  Seat_comfort_need improvement  Seat_comfort_poor  \\\n",
       "0                  0                              1                  0   \n",
       "1                  0                              0                  1   \n",
       "2                  0                              1                  0   \n",
       "3                  0                              0                  0   \n",
       "4                  0                              0                  0   \n",
       "\n",
       "   Seat_Class_Ordinary  Arrival_time_convenient_excellent  \\\n",
       "0                    0                                  1   \n",
       "1                    1                                  1   \n",
       "2                    0                                  0   \n",
       "3                    1                                  0   \n",
       "4                    1                                  0   \n",
       "\n",
       "   Arrival_time_convenient_extremely poor  Arrival_time_convenient_good  ...  \\\n",
       "0                                       0                             0  ...   \n",
       "1                                       0                             0  ...   \n",
       "2                                       0                             0  ...   \n",
       "3                                       0                             0  ...   \n",
       "4                                       0                             0  ...   \n",
       "\n",
       "   Cleanliness_excellent  Cleanliness_extremely poor  Cleanliness_good  \\\n",
       "0                      0                           0                 0   \n",
       "1                      0                           0                 1   \n",
       "2                      1                           0                 0   \n",
       "3                      0                           0                 0   \n",
       "4                      0                           0                 1   \n",
       "\n",
       "   Cleanliness_need improvement  Cleanliness_poor  Online_boarding_excellent  \\\n",
       "0                             1                 0                          0   \n",
       "1                             0                 0                          0   \n",
       "2                             0                 0                          1   \n",
       "3                             0                 0                          0   \n",
       "4                             0                 0                          0   \n",
       "\n",
       "   Online_boarding_extremely poor  Online_boarding_good  \\\n",
       "0                               0                     0   \n",
       "1                               0                     1   \n",
       "2                               0                     0   \n",
       "3                               0                     0   \n",
       "4                               0                     1   \n",
       "\n",
       "   Online_boarding_need improvement  Online_boarding_poor  \n",
       "0                                 0                     1  \n",
       "1                                 0                     0  \n",
       "2                                 0                     0  \n",
       "3                                 0                     0  \n",
       "4                                 0                     0  \n",
       "\n",
       "[5 rows x 71 columns]"
      ]
     },
     "execution_count": 49,
     "metadata": {},
     "output_type": "execute_result"
    }
   ],
   "source": [
    "# For training data (Train)df_train = pd.get_dummies(df_train,drop_first = True)\n",
    "df_train.head()"
   ]
  },
  {
   "cell_type": "code",
   "execution_count": 50,
   "metadata": {
    "id": "blrMdoV2PoIB",
    "outputId": "975fa046-dae4-43f7-8a6e-12a1c16436b9"
   },
   "outputs": [
    {
     "data": {
      "text/html": [
       "<div>\n",
       "<style scoped>\n",
       "    .dataframe tbody tr th:only-of-type {\n",
       "        vertical-align: middle;\n",
       "    }\n",
       "\n",
       "    .dataframe tbody tr th {\n",
       "        vertical-align: top;\n",
       "    }\n",
       "\n",
       "    .dataframe thead th {\n",
       "        text-align: right;\n",
       "    }\n",
       "</style>\n",
       "<table border=\"1\" class=\"dataframe\">\n",
       "  <thead>\n",
       "    <tr style=\"text-align: right;\">\n",
       "      <th></th>\n",
       "      <th>Seat_comfort_excellent</th>\n",
       "      <th>Seat_comfort_extremely poor</th>\n",
       "      <th>Seat_comfort_good</th>\n",
       "      <th>Seat_comfort_need improvement</th>\n",
       "      <th>Seat_comfort_poor</th>\n",
       "      <th>Seat_Class_Ordinary</th>\n",
       "      <th>Arrival_time_convenient_excellent</th>\n",
       "      <th>Arrival_time_convenient_extremely poor</th>\n",
       "      <th>Arrival_time_convenient_good</th>\n",
       "      <th>Arrival_time_convenient_need improvement</th>\n",
       "      <th>...</th>\n",
       "      <th>Checkin_service_poor</th>\n",
       "      <th>Cleanliness_excellent</th>\n",
       "      <th>Cleanliness_good</th>\n",
       "      <th>Cleanliness_need improvement</th>\n",
       "      <th>Cleanliness_poor</th>\n",
       "      <th>Online_boarding_excellent</th>\n",
       "      <th>Online_boarding_extremely poor</th>\n",
       "      <th>Online_boarding_good</th>\n",
       "      <th>Online_boarding_need improvement</th>\n",
       "      <th>Online_boarding_poor</th>\n",
       "    </tr>\n",
       "  </thead>\n",
       "  <tbody>\n",
       "    <tr>\n",
       "      <th>0</th>\n",
       "      <td>0</td>\n",
       "      <td>0</td>\n",
       "      <td>0</td>\n",
       "      <td>0</td>\n",
       "      <td>0</td>\n",
       "      <td>0</td>\n",
       "      <td>0</td>\n",
       "      <td>0</td>\n",
       "      <td>0</td>\n",
       "      <td>0</td>\n",
       "      <td>...</td>\n",
       "      <td>0</td>\n",
       "      <td>1</td>\n",
       "      <td>0</td>\n",
       "      <td>0</td>\n",
       "      <td>0</td>\n",
       "      <td>0</td>\n",
       "      <td>0</td>\n",
       "      <td>0</td>\n",
       "      <td>0</td>\n",
       "      <td>1</td>\n",
       "    </tr>\n",
       "    <tr>\n",
       "      <th>1</th>\n",
       "      <td>0</td>\n",
       "      <td>1</td>\n",
       "      <td>0</td>\n",
       "      <td>0</td>\n",
       "      <td>0</td>\n",
       "      <td>1</td>\n",
       "      <td>0</td>\n",
       "      <td>0</td>\n",
       "      <td>1</td>\n",
       "      <td>0</td>\n",
       "      <td>...</td>\n",
       "      <td>0</td>\n",
       "      <td>1</td>\n",
       "      <td>0</td>\n",
       "      <td>0</td>\n",
       "      <td>0</td>\n",
       "      <td>0</td>\n",
       "      <td>0</td>\n",
       "      <td>0</td>\n",
       "      <td>0</td>\n",
       "      <td>0</td>\n",
       "    </tr>\n",
       "    <tr>\n",
       "      <th>2</th>\n",
       "      <td>1</td>\n",
       "      <td>0</td>\n",
       "      <td>0</td>\n",
       "      <td>0</td>\n",
       "      <td>0</td>\n",
       "      <td>1</td>\n",
       "      <td>1</td>\n",
       "      <td>0</td>\n",
       "      <td>0</td>\n",
       "      <td>0</td>\n",
       "      <td>...</td>\n",
       "      <td>0</td>\n",
       "      <td>0</td>\n",
       "      <td>0</td>\n",
       "      <td>1</td>\n",
       "      <td>0</td>\n",
       "      <td>1</td>\n",
       "      <td>0</td>\n",
       "      <td>0</td>\n",
       "      <td>0</td>\n",
       "      <td>0</td>\n",
       "    </tr>\n",
       "    <tr>\n",
       "      <th>3</th>\n",
       "      <td>0</td>\n",
       "      <td>0</td>\n",
       "      <td>0</td>\n",
       "      <td>0</td>\n",
       "      <td>0</td>\n",
       "      <td>0</td>\n",
       "      <td>1</td>\n",
       "      <td>0</td>\n",
       "      <td>0</td>\n",
       "      <td>0</td>\n",
       "      <td>...</td>\n",
       "      <td>0</td>\n",
       "      <td>1</td>\n",
       "      <td>0</td>\n",
       "      <td>0</td>\n",
       "      <td>0</td>\n",
       "      <td>0</td>\n",
       "      <td>0</td>\n",
       "      <td>0</td>\n",
       "      <td>0</td>\n",
       "      <td>1</td>\n",
       "    </tr>\n",
       "    <tr>\n",
       "      <th>4</th>\n",
       "      <td>1</td>\n",
       "      <td>0</td>\n",
       "      <td>0</td>\n",
       "      <td>0</td>\n",
       "      <td>0</td>\n",
       "      <td>1</td>\n",
       "      <td>0</td>\n",
       "      <td>1</td>\n",
       "      <td>0</td>\n",
       "      <td>0</td>\n",
       "      <td>...</td>\n",
       "      <td>0</td>\n",
       "      <td>1</td>\n",
       "      <td>0</td>\n",
       "      <td>0</td>\n",
       "      <td>0</td>\n",
       "      <td>1</td>\n",
       "      <td>0</td>\n",
       "      <td>0</td>\n",
       "      <td>0</td>\n",
       "      <td>0</td>\n",
       "    </tr>\n",
       "  </tbody>\n",
       "</table>\n",
       "<p>5 rows × 65 columns</p>\n",
       "</div>"
      ],
      "text/plain": [
       "   Seat_comfort_excellent  Seat_comfort_extremely poor  Seat_comfort_good  \\\n",
       "0                       0                            0                  0   \n",
       "1                       0                            1                  0   \n",
       "2                       1                            0                  0   \n",
       "3                       0                            0                  0   \n",
       "4                       1                            0                  0   \n",
       "\n",
       "   Seat_comfort_need improvement  Seat_comfort_poor  Seat_Class_Ordinary  \\\n",
       "0                              0                  0                    0   \n",
       "1                              0                  0                    1   \n",
       "2                              0                  0                    1   \n",
       "3                              0                  0                    0   \n",
       "4                              0                  0                    1   \n",
       "\n",
       "   Arrival_time_convenient_excellent  Arrival_time_convenient_extremely poor  \\\n",
       "0                                  0                                       0   \n",
       "1                                  0                                       0   \n",
       "2                                  1                                       0   \n",
       "3                                  1                                       0   \n",
       "4                                  0                                       1   \n",
       "\n",
       "   Arrival_time_convenient_good  Arrival_time_convenient_need improvement  \\\n",
       "0                             0                                         0   \n",
       "1                             1                                         0   \n",
       "2                             0                                         0   \n",
       "3                             0                                         0   \n",
       "4                             0                                         0   \n",
       "\n",
       "   ...  Checkin_service_poor  Cleanliness_excellent  Cleanliness_good  \\\n",
       "0  ...                     0                      1                 0   \n",
       "1  ...                     0                      1                 0   \n",
       "2  ...                     0                      0                 0   \n",
       "3  ...                     0                      1                 0   \n",
       "4  ...                     0                      1                 0   \n",
       "\n",
       "   Cleanliness_need improvement  Cleanliness_poor  Online_boarding_excellent  \\\n",
       "0                             0                 0                          0   \n",
       "1                             0                 0                          0   \n",
       "2                             1                 0                          1   \n",
       "3                             0                 0                          0   \n",
       "4                             0                 0                          1   \n",
       "\n",
       "   Online_boarding_extremely poor  Online_boarding_good  \\\n",
       "0                               0                     0   \n",
       "1                               0                     0   \n",
       "2                               0                     0   \n",
       "3                               0                     0   \n",
       "4                               0                     0   \n",
       "\n",
       "   Online_boarding_need improvement  Online_boarding_poor  \n",
       "0                                 0                     1  \n",
       "1                                 0                     0  \n",
       "2                                 0                     0  \n",
       "3                                 0                     1  \n",
       "4                                 0                     0  \n",
       "\n",
       "[5 rows x 65 columns]"
      ]
     },
     "execution_count": 50,
     "metadata": {},
     "output_type": "execute_result"
    }
   ],
   "source": [
    "# For test data (test)df_test = pd.get_dummies(df_test,drop_first = True)\n",
    "df_test.head()"
   ]
  },
  {
   "cell_type": "code",
   "execution_count": 51,
   "metadata": {
    "id": "F--HcLyBPoIC",
    "scrolled": true
   },
   "outputs": [],
   "source": [
    "# We create a variable name Col to save all the columns of the training file (Train)cols = df_train.columns"
   ]
  },
  {
   "cell_type": "markdown",
   "metadata": {
    "id": "qv1JKigaPoIC",
    "lang": "es"
   },
   "source": [
    "### Imputation of continuous values"
   ]
  },
  {
   "cell_type": "code",
   "execution_count": 52,
   "metadata": {
    "id": "tGsLly98PoIC"
   },
   "outputs": [],
   "source": [
    "# In our case it is the SEAT_Comfort_Excelent column for both training files (Train) and Test (Test)from sklearn.impute import SimpleImputer\n",
    "SI = SimpleImputer(strategy='median')\n",
    "df_train = SI.fit_transform(df_train)\n",
    "df_train = pd.DataFrame(df_train,columns=cols)\n",
    "\n",
    "df_test.loc[df_test['Seat_comfort_excellent'].isnull() == True,'Seat_comfort_excellent'] = df_train['Seat_comfort_excellent'].median()"
   ]
  },
  {
   "cell_type": "code",
   "execution_count": 53,
   "metadata": {},
   "outputs": [
    {
     "name": "stdout",
     "output_type": "stream",
     "text": [
      "Overall_Experience                  0\n",
      "Seat_comfort_excellent              0\n",
      "Seat_comfort_extremely poor         0\n",
      "Seat_comfort_good                   0\n",
      "Seat_comfort_need improvement       0\n",
      "                                   ..\n",
      "Online_boarding_excellent           0\n",
      "Online_boarding_extremely poor      0\n",
      "Online_boarding_good                0\n",
      "Online_boarding_need improvement    0\n",
      "Online_boarding_poor                0\n",
      "Length: 71, dtype: int64\n",
      "------------------------------\n",
      "Seat_comfort_excellent              0\n",
      "Seat_comfort_extremely poor         0\n",
      "Seat_comfort_good                   0\n",
      "Seat_comfort_need improvement       0\n",
      "Seat_comfort_poor                   0\n",
      "                                   ..\n",
      "Online_boarding_excellent           0\n",
      "Online_boarding_extremely poor      0\n",
      "Online_boarding_good                0\n",
      "Online_boarding_need improvement    0\n",
      "Online_boarding_poor                0\n",
      "Length: 65, dtype: int64\n",
      "------------------------------\n"
     ]
    }
   ],
   "source": [
    "# We verify that no column has missing values ​​in the training sets (Train) and Test (Test)print(df_train.isna().sum())\n",
    "print(\"-\" * 30)\n",
    "print(df_test.isna().sum())\n",
    "print(\"-\" * 30)"
   ]
  },
  {
   "cell_type": "markdown",
   "metadata": {},
   "source": [
    "- It is observed that there are no longer null values ​​in the columns in both training files (train) and test (test)"
   ]
  },
  {
   "cell_type": "markdown",
   "metadata": {
    "id": "kS_L1hNIPoID",
    "lang": "es"
   },
   "source": [
    "### We divide the training data set into a training and validation set"
   ]
  },
  {
   "cell_type": "code",
   "execution_count": 54,
   "metadata": {
    "id": "vL2HIBJPPoID"
   },
   "outputs": [],
   "source": [
    "# As the variable or column is mentioned as a requirement, it is overall_experienceX = df_train.drop(['Overall_Experience'],axis = 1)\n",
    "y = df_train['Overall_Experience']"
   ]
  },
  {
   "cell_type": "code",
   "execution_count": 55,
   "metadata": {
    "id": "uRJHjr-8PoIE"
   },
   "outputs": [],
   "source": [
    "from sklearn.model_selection import train_test_split\n",
    "X_train, X_validation, y_train, y_validation = train_test_split(X,y,test_size = 0.2,random_state = 0)"
   ]
  },
  {
   "cell_type": "markdown",
   "metadata": {
    "id": "Gn5ocukgPoIE",
    "lang": "es"
   },
   "source": [
    "### training the models - Decision Tree"
   ]
  },
  {
   "cell_type": "code",
   "execution_count": 56,
   "metadata": {
    "id": "6ZkJIhVuPoIE"
   },
   "outputs": [],
   "source": [
    "from sklearn.tree import DecisionTreeClassifier\n",
    "dt_model = DecisionTreeClassifier(criterion='gini',max_depth=10,random_state=0)\n",
    "dt_model.fit(X_train,y_train)\n",
    "\n",
    "y_pred_train = dt_model.predict(X_train)\n",
    "y_pred_val = dt_model.predict(X_validation)"
   ]
  },
  {
   "cell_type": "code",
   "execution_count": 57,
   "metadata": {
    "id": "pq5gH8iOPoIF",
    "outputId": "b1be5774-fab1-40ec-84f5-19dbb3a39972"
   },
   "outputs": [
    {
     "name": "stdout",
     "output_type": "stream",
     "text": [
      "Entrenamiento Accuracy: 0.9184005933539064\n",
      "Validacion Accuracy: 0.9068128840856113\n",
      "\n",
      "Entrenamiento  ROC AUC: 0.9207321308051453\n",
      "Validacion ROC AUC : 0.9089581521318065\n",
      "\n",
      "Informe de clasificación de Entrenamiento:\n",
      "               precision    recall  f1-score   support\n",
      "\n",
      "         0.0       0.88      0.95      0.91     34169\n",
      "         1.0       0.95      0.90      0.92     41334\n",
      "\n",
      "    accuracy                           0.92     75503\n",
      "   macro avg       0.92      0.92      0.92     75503\n",
      "weighted avg       0.92      0.92      0.92     75503\n",
      "\n",
      "Informe de clasificación de Validacion:\n",
      "               precision    recall  f1-score   support\n",
      "\n",
      "         0.0       0.87      0.93      0.90      8617\n",
      "         1.0       0.94      0.88      0.91     10259\n",
      "\n",
      "    accuracy                           0.91     18876\n",
      "   macro avg       0.91      0.91      0.91     18876\n",
      "weighted avg       0.91      0.91      0.91     18876\n",
      "\n"
     ]
    }
   ],
   "source": [
    "from sklearn import metrics\n",
    "dt_acc_train = metrics.accuracy_score(y_train,y_pred_train)\n",
    "dt_acc_val = metrics.accuracy_score(y_validation,y_pred_val)\n",
    "print(\"Entrenamiento Accuracy:\",dt_acc_train)\n",
    "print(\"Validacion Accuracy:\",dt_acc_val)\n",
    "print()\n",
    "\n",
    "dt_roc_train = metrics.roc_auc_score(y_train,y_pred_train)\n",
    "dt_roc_val = metrics.roc_auc_score(y_validation,y_pred_val)\n",
    "print(\"Entrenamiento  ROC AUC:\",dt_roc_train)\n",
    "print(\"Validacion ROC AUC :\",dt_roc_val)\n",
    "print()\n",
    "\n",
    "dt_clr_train = metrics.classification_report(y_train,y_pred_train)\n",
    "dt_clr_val = metrics.classification_report(y_validation,y_pred_val)\n",
    "print(\"Informe de clasificación de Entrenamiento:\\n\",dt_clr_train)\n",
    "print(\"Informe de clasificación de Validacion:\\n\",dt_clr_val)"
   ]
  },
  {
   "cell_type": "markdown",
   "metadata": {
    "id": "E27FIjIePoIF",
    "lang": "es"
   },
   "source": [
    "### training the models - Random Forest"
   ]
  },
  {
   "cell_type": "code",
   "execution_count": 58,
   "metadata": {
    "id": "mTBUeRDbPoIG"
   },
   "outputs": [],
   "source": [
    "from sklearn.ensemble import RandomForestClassifier\n",
    "rf_model = RandomForestClassifier(n_estimators=10,criterion='gini',max_depth=10,random_state=0)\n",
    "rf_model.fit(X_train,y_train)\n",
    "\n",
    "y_pred_train = rf_model.predict(X_train)\n",
    "y_pred_val = rf_model.predict(X_validation)"
   ]
  },
  {
   "cell_type": "code",
   "execution_count": 59,
   "metadata": {
    "id": "m3yKcJeQPoIG",
    "outputId": "9cd17ef4-9529-4393-8995-6f70199bed9b"
   },
   "outputs": [
    {
     "name": "stdout",
     "output_type": "stream",
     "text": [
      "Entrenamiento Accuracy: 0.9097784194005536\n",
      "Validacion Accuracy: 0.9040050858232677\n",
      "\n",
      "Entrenamiento ROC AUC : 0.9093770866368811\n",
      "Validacion ROC AUC : 0.90345889212237\n",
      "\n",
      "Informe de clasificación de Entrenamiento:\n",
      "               precision    recall  f1-score   support\n",
      "\n",
      "         0.0       0.90      0.91      0.90     34169\n",
      "         1.0       0.92      0.91      0.92     41334\n",
      "\n",
      "    accuracy                           0.91     75503\n",
      "   macro avg       0.91      0.91      0.91     75503\n",
      "weighted avg       0.91      0.91      0.91     75503\n",
      "\n",
      "Informe de clasificación de Validacion:\n",
      "               precision    recall  f1-score   support\n",
      "\n",
      "         0.0       0.89      0.90      0.90      8617\n",
      "         1.0       0.91      0.91      0.91     10259\n",
      "\n",
      "    accuracy                           0.90     18876\n",
      "   macro avg       0.90      0.90      0.90     18876\n",
      "weighted avg       0.90      0.90      0.90     18876\n",
      "\n"
     ]
    }
   ],
   "source": [
    "from sklearn import metrics\n",
    "dt_acc_train = metrics.accuracy_score(y_train,y_pred_train)\n",
    "dt_acc_val = metrics.accuracy_score(y_validation,y_pred_val)\n",
    "print(\"Entrenamiento Accuracy:\",dt_acc_train)\n",
    "print(\"Validacion Accuracy:\",dt_acc_val)\n",
    "print()\n",
    "\n",
    "dt_roc_train = metrics.roc_auc_score(y_train,y_pred_train)\n",
    "dt_roc_val = metrics.roc_auc_score(y_validation,y_pred_val)\n",
    "print(\"Entrenamiento ROC AUC :\",dt_roc_train)\n",
    "print(\"Validacion ROC AUC :\",dt_roc_val)\n",
    "print()\n",
    "\n",
    "dt_clr_train = metrics.classification_report(y_train,y_pred_train)\n",
    "dt_clr_val = metrics.classification_report(y_validation,y_pred_val)\n",
    "print(\"Informe de clasificación de Entrenamiento:\\n\",dt_clr_train)\n",
    "print(\"Informe de clasificación de Validacion:\\n\",dt_clr_val)"
   ]
  },
  {
   "cell_type": "markdown",
   "metadata": {
    "id": "FEaW8eSUPoIG",
    "lang": "es"
   },
   "source": [
    "### We predict test data using the RF model and create a shipping file that must be charged on the GL Hackathon platform"
   ]
  },
  {
   "cell_type": "code",
   "execution_count": 36,
   "metadata": {
    "id": "hE4tBcQpPoIH"
   },
   "outputs": [],
   "source": [
    "final_predictions = rf_model.predict(X_train)\n",
    "submission=pd.DataFrame([test_file_ids,final_predictions]).T\n",
    "submission.rename(columns={\"Unnamed 0\": \"Overall_Experience\"},inplace=True)\n",
    "submission.to_csv('Shinkansen_Warriors_Bros_Fer_Guerrero.csv',index = False)"
   ]
  },
  {
   "cell_type": "markdown",
   "metadata": {},
   "source": [
    "## Conclusions"
   ]
  },
  {
   "cell_type": "markdown",
   "metadata": {},
   "source": [
    "- Clearly the best precision was not obtained that is a 1 in any model, but the closest is Accuracy.- It is necessary to improve quite a lot in the cleaning, seat and tribute variables on the part of the company.- The people who travel the most on the train (trains) are loyalty, that is, they already know the trains.- There is an important correlation between output delay in minutes and arrival delay in minutes.- There are more enchanted customers or travelers with 1 more or less 54 % than those who are not delighted.- There are more women than men who travel or use trains with 50.7 %, maybe that's why cleaning, quality ratingsIn the seats they have a (not delighted) with the service.- The average age of customers or travelers who use the train (s) is 40 years."
   ]
  },
  {
   "cell_type": "markdown",
   "metadata": {},
   "source": [
    "## Recommendations"
   ]
  },
  {
   "cell_type": "markdown",
   "metadata": {},
   "source": [
    "- Ovbly it is recommended to put more emphasis and attention to cleaning, comfort and delay of trains so that usersThey can be more satisfied and recommend to the company to have more users.- It would be good to have a database or incorporate existing columns with costs and different regions to existing filesor destinations to make a more complete analysis and determine the cost-benefit of users.- Despite being a bullet train, its speed is not specified at any time or file, being important forAlso be able to make more recommendations and validate the delay against the arrival and that it is a parameter more in the analysis.- High speed must solve challenges such as tunnel pressure changes or air resistance, that data would beperfect to have it to see train behavior and see if there is improvement or not and be a plus for users and an exampleFor other trains and society companies.- Be the best transport option for users, in comfort, satisfaction be business trip or not.- Have an internal survey or internal control about why the train output delays in order to improve in thatitem."
   ]
  },
  {
   "cell_type": "markdown",
   "metadata": {},
   "source": [
    "## <a name = 'link2'> Summary of the Exploratory Data Analysis (EDA) </a>"
   ]
  },
  {
   "cell_type": "markdown",
   "metadata": {},
   "source": [
    "### ** Note **: In this case study, we will focus mainly on the aspects of model construction. We will only see the training file (Surveydata_Train)."
   ]
  },
  {
   "cell_type": "code",
   "execution_count": 63,
   "metadata": {},
   "outputs": [],
   "source": [
    "# Function to create bars diagrams labeled\n",
    "def labeled_barplot(data, feature, perc=False, n=None):\n",
    "    \"\"\"\n",
    "    Barplot with percentage at the top\n",
    "\n",
    "    data: dataframe\n",
    "    feature: dataframe column\n",
    "    perc: whether to display percentages instead of count (default is False)\n",
    "    n: displays the top n category levels (default is None, i.e., display all levels)\n",
    "    \"\"\"\n",
    "\n",
    "    total = len(data[feature])  # longitud de la columna\n",
    "    count = data[feature].nunique()\n",
    "    if n is None:\n",
    "        plt.figure(figsize=(count + 2, 6))\n",
    "    else:\n",
    "        plt.figure(figsize=(n + 2, 6))\n",
    "\n",
    "    plt.xticks(rotation=90, fontsize=15)\n",
    "    ax = sns.countplot(\n",
    "        data=data,\n",
    "        x=feature,\n",
    "        palette=\"Paired\",\n",
    "        order=data[feature].value_counts().index[:n],\n",
    "    )\n",
    "\n",
    "    for p in ax.patches:\n",
    "        if perc == True:\n",
    "            label = \"{:.1f}%\".format(\n",
    "                100 * p.get_height() / total\n",
    "            )  # porcentaje de cada clase de la categoría\n",
    "        else:\n",
    "            label = p.get_height()  # recuento de cada nivel de la categoría\n",
    "\n",
    "        x = p.get_x() + p.get_width() / 2  # ancho del plot\n",
    "        y = p.get_height()  # alto del plot\n",
    "\n",
    "        ax.annotate(\n",
    "            label,\n",
    "            (x, y),\n",
    "            ha=\"center\",\n",
    "            va=\"center\",\n",
    "            size=12,\n",
    "            xytext=(0, 5),\n",
    "            textcoords=\"offset points\",\n",
    "        )  # anotando el porcentaje\n",
    "\n",
    "    plt.show()  # mostrar el plot"
   ]
  },
  {
   "cell_type": "code",
   "execution_count": 66,
   "metadata": {},
   "outputs": [
    {
     "data": {
      "image/png": "[encoded data removed]",
      "text/plain": [
       "<Figure size 288x432 with 1 Axes>"
      ]
     },
     "metadata": {
      "needs_background": "light"
     },
     "output_type": "display_data"
    }
   ],
   "source": [
    "# We use Labeled_Barplot to graph seat_comfort_excelentlabeled_barplot(df_train,\"Seat_comfort_excellent\", perc=True)\n"
   ]
  },
  {
   "cell_type": "code",
   "execution_count": 70,
   "metadata": {},
   "outputs": [
    {
     "data": {
      "image/png": "[encoded data removed]",
      "text/plain": [
       "<Figure size 288x432 with 1 Axes>"
      ]
     },
     "metadata": {
      "needs_background": "light"
     },
     "output_type": "display_data"
    }
   ],
   "source": [
    "labeled_barplot(df_train, \"Seat_comfort_extremely poor\", perc=True)"
   ]
  },
  {
   "cell_type": "code",
   "execution_count": 71,
   "metadata": {},
   "outputs": [
    {
     "data": {
      "image/png": "[encoded data removed]",
      "text/plain": [
       "<Figure size 288x432 with 1 Axes>"
      ]
     },
     "metadata": {
      "needs_background": "light"
     },
     "output_type": "display_data"
    }
   ],
   "source": [
    "labeled_barplot(df_train, \"Seat_comfort_good\", perc=True)"
   ]
  },
  {
   "cell_type": "code",
   "execution_count": 72,
   "metadata": {},
   "outputs": [
    {
     "data": {
      "image/png": "[encoded data removed]",
      "text/plain": [
       "<Figure size 288x432 with 1 Axes>"
      ]
     },
     "metadata": {
      "needs_background": "light"
     },
     "output_type": "display_data"
    }
   ],
   "source": [
    "labeled_barplot(df_train, \"Seat_comfort_need improvement\", perc=True)"
   ]
  },
  {
   "cell_type": "code",
   "execution_count": 73,
   "metadata": {},
   "outputs": [
    {
     "data": {
      "image/png": "[encoded data removed]",
      "text/plain": [
       "<Figure size 288x432 with 1 Axes>"
      ]
     },
     "metadata": {
      "needs_background": "light"
     },
     "output_type": "display_data"
    }
   ],
   "source": [
    "labeled_barplot(df_train, \"Seat_comfort_poor\", perc=True)"
   ]
  },
  {
   "cell_type": "code",
   "execution_count": 74,
   "metadata": {},
   "outputs": [
    {
     "data": {
      "image/png": "[encoded data removed]",
      "text/plain": [
       "<Figure size 288x432 with 1 Axes>"
      ]
     },
     "metadata": {
      "needs_background": "light"
     },
     "output_type": "display_data"
    }
   ],
   "source": [
    "labeled_barplot(df_train, \"Seat_Class_Ordinary\", perc=True)"
   ]
  },
  {
   "cell_type": "markdown",
   "metadata": {},
   "source": [
    "- All SEAT variables have a % of uncharged users or satisfied with the comfort of their seat"
   ]
  },
  {
   "cell_type": "code",
   "execution_count": 75,
   "metadata": {},
   "outputs": [
    {
     "data": {
      "image/png": "[encoded data removed]",
      "text/plain": [
       "<Figure size 288x432 with 1 Axes>"
      ]
     },
     "metadata": {
      "needs_background": "light"
     },
     "output_type": "display_data"
    }
   ],
   "source": [
    "labeled_barplot(df_train, \"Arrival_time_convenient_excellent\", perc=True)"
   ]
  },
  {
   "cell_type": "code",
   "execution_count": 76,
   "metadata": {},
   "outputs": [
    {
     "data": {
      "image/png": "[encoded data removed]",
      "text/plain": [
       "<Figure size 288x432 with 1 Axes>"
      ]
     },
     "metadata": {
      "needs_background": "light"
     },
     "output_type": "display_data"
    }
   ],
   "source": [
    "labeled_barplot(df_train, \"Arrival_time_convenient_extremely poor\", perc=True)"
   ]
  },
  {
   "cell_type": "code",
   "execution_count": 77,
   "metadata": {},
   "outputs": [
    {
     "data": {
      "image/png": "[encoded data removed]",
      "text/plain": [
       "<Figure size 288x432 with 1 Axes>"
      ]
     },
     "metadata": {
      "needs_background": "light"
     },
     "output_type": "display_data"
    }
   ],
   "source": [
    "labeled_barplot(df_train, \"Arrival_time_convenient_good\", perc=True)"
   ]
  },
  {
   "cell_type": "markdown",
   "metadata": {},
   "source": [
    "- All arrival variables have a % unchained users or satisfied with their arrival on time or convenient"
   ]
  },
  {
   "cell_type": "code",
   "execution_count": 78,
   "metadata": {},
   "outputs": [
    {
     "data": {
      "image/png": "[encoded data removed]",
      "text/plain": [
       "<Figure size 288x432 with 1 Axes>"
      ]
     },
     "metadata": {
      "needs_background": "light"
     },
     "output_type": "display_data"
    }
   ],
   "source": [
    "labeled_barplot(df_train, \"Cleanliness_excellent\", perc=True)"
   ]
  },
  {
   "cell_type": "code",
   "execution_count": 79,
   "metadata": {},
   "outputs": [
    {
     "data": {
      "image/png": "[encoded data removed]",
      "text/plain": [
       "<Figure size 288x432 with 1 Axes>"
      ]
     },
     "metadata": {
      "needs_background": "light"
     },
     "output_type": "display_data"
    }
   ],
   "source": [
    "labeled_barplot(df_train, \"Cleanliness_extremely poor\", perc=True)"
   ]
  },
  {
   "cell_type": "code",
   "execution_count": 80,
   "metadata": {},
   "outputs": [
    {
     "data": {
      "image/png": "[encoded data removed]",
      "text/plain": [
       "<Figure size 288x432 with 1 Axes>"
      ]
     },
     "metadata": {
      "needs_background": "light"
     },
     "output_type": "display_data"
    }
   ],
   "source": [
    "\n",
    "labeled_barplot(df_train, \"Cleanliness_good\", perc=True)"
   ]
  },
  {
   "cell_type": "code",
   "execution_count": 81,
   "metadata": {},
   "outputs": [
    {
     "data": {
      "image/png": "[encoded data removed]",
      "text/plain": [
       "<Figure size 288x432 with 1 Axes>"
      ]
     },
     "metadata": {
      "needs_background": "light"
     },
     "output_type": "display_data"
    }
   ],
   "source": [
    "labeled_barplot(df_train, \"Cleanliness_need improvement\", perc=True)"
   ]
  },
  {
   "cell_type": "code",
   "execution_count": 82,
   "metadata": {},
   "outputs": [
    {
     "data": {
      "image/png": "[encoded data removed]",
      "text/plain": [
       "<Figure size 288x432 with 1 Axes>"
      ]
     },
     "metadata": {
      "needs_background": "light"
     },
     "output_type": "display_data"
    }
   ],
   "source": [
    "labeled_barplot(df_train, \"Cleanliness_poor\", perc=True)"
   ]
  },
  {
   "cell_type": "markdown",
   "metadata": {},
   "source": [
    "- It is necessary to improve quite a lot in the cleanThey are not satisfied with cleaning"
   ]
  },
  {
   "cell_type": "code",
   "execution_count": 83,
   "metadata": {},
   "outputs": [
    {
     "data": {
      "image/png": "[encoded data removed]",
      "text/plain": [
       "<Figure size 288x432 with 1 Axes>"
      ]
     },
     "metadata": {
      "needs_background": "light"
     },
     "output_type": "display_data"
    }
   ],
   "source": [
    "labeled_barplot(df_train, \"Online_boarding_excellent\", perc=True)"
   ]
  },
  {
   "cell_type": "code",
   "execution_count": 84,
   "metadata": {},
   "outputs": [
    {
     "data": {
      "image/png": "[encoded data removed]",
      "text/plain": [
       "<Figure size 288x432 with 1 Axes>"
      ]
     },
     "metadata": {
      "needs_background": "light"
     },
     "output_type": "display_data"
    }
   ],
   "source": [
    "labeled_barplot(df_train, \"Online_boarding_extremely poor\", perc=True)"
   ]
  },
  {
   "cell_type": "code",
   "execution_count": 85,
   "metadata": {},
   "outputs": [
    {
     "data": {
      "image/png": "[encoded data removed]",
      "text/plain": [
       "<Figure size 288x432 with 1 Axes>"
      ]
     },
     "metadata": {
      "needs_background": "light"
     },
     "output_type": "display_data"
    }
   ],
   "source": [
    "labeled_barplot(df_train, \"Online_boarding_need improvement\", perc=True)"
   ]
  },
  {
   "cell_type": "code",
   "execution_count": 86,
   "metadata": {},
   "outputs": [
    {
     "data": {
      "image/png": "[encoded data removed]",
      "text/plain": [
       "<Figure size 288x432 with 1 Axes>"
      ]
     },
     "metadata": {
      "needs_background": "light"
     },
     "output_type": "display_data"
    }
   ],
   "source": [
    "labeled_barplot(df_train, \"Online_boarding_poor\", perc=True)"
   ]
  },
  {
   "cell_type": "markdown",
   "metadata": {},
   "source": [
    "- Online_boarding variables are well below user satisfaction."
   ]
  },
  {
   "cell_type": "markdown",
   "metadata": {},
   "source": [
    "### ** Note **: Let's see the training data of the Traveldata_Train file"
   ]
  },
  {
   "cell_type": "code",
   "execution_count": 89,
   "metadata": {},
   "outputs": [],
   "source": [
    "# We load the file and put it in the data variabledata = pd.read_csv('Traveldata_train_(1).csv')"
   ]
  },
  {
   "cell_type": "code",
   "execution_count": 90,
   "metadata": {},
   "outputs": [
    {
     "data": {
      "text/html": [
       "<div>\n",
       "<style scoped>\n",
       "    .dataframe tbody tr th:only-of-type {\n",
       "        vertical-align: middle;\n",
       "    }\n",
       "\n",
       "    .dataframe tbody tr th {\n",
       "        vertical-align: top;\n",
       "    }\n",
       "\n",
       "    .dataframe thead th {\n",
       "        text-align: right;\n",
       "    }\n",
       "</style>\n",
       "<table border=\"1\" class=\"dataframe\">\n",
       "  <thead>\n",
       "    <tr style=\"text-align: right;\">\n",
       "      <th></th>\n",
       "      <th>ID</th>\n",
       "      <th>Gender</th>\n",
       "      <th>CustomerType</th>\n",
       "      <th>Age</th>\n",
       "      <th>TypeTravel</th>\n",
       "      <th>Travel_Class</th>\n",
       "      <th>Travel_Distance</th>\n",
       "      <th>DepartureDelay_in_Mins</th>\n",
       "      <th>ArrivalDelay_in_Mins</th>\n",
       "    </tr>\n",
       "  </thead>\n",
       "  <tbody>\n",
       "    <tr>\n",
       "      <th>0</th>\n",
       "      <td>98800001</td>\n",
       "      <td>Female</td>\n",
       "      <td>Loyal Customer</td>\n",
       "      <td>52.0</td>\n",
       "      <td>NaN</td>\n",
       "      <td>Business</td>\n",
       "      <td>272</td>\n",
       "      <td>0.0</td>\n",
       "      <td>5.0</td>\n",
       "    </tr>\n",
       "    <tr>\n",
       "      <th>1</th>\n",
       "      <td>98800002</td>\n",
       "      <td>Male</td>\n",
       "      <td>Loyal Customer</td>\n",
       "      <td>48.0</td>\n",
       "      <td>Personal Travel</td>\n",
       "      <td>Eco</td>\n",
       "      <td>2200</td>\n",
       "      <td>9.0</td>\n",
       "      <td>0.0</td>\n",
       "    </tr>\n",
       "    <tr>\n",
       "      <th>2</th>\n",
       "      <td>98800003</td>\n",
       "      <td>Female</td>\n",
       "      <td>Loyal Customer</td>\n",
       "      <td>43.0</td>\n",
       "      <td>Business travel</td>\n",
       "      <td>Business</td>\n",
       "      <td>1061</td>\n",
       "      <td>77.0</td>\n",
       "      <td>119.0</td>\n",
       "    </tr>\n",
       "    <tr>\n",
       "      <th>3</th>\n",
       "      <td>98800004</td>\n",
       "      <td>Female</td>\n",
       "      <td>Loyal Customer</td>\n",
       "      <td>44.0</td>\n",
       "      <td>Business travel</td>\n",
       "      <td>Business</td>\n",
       "      <td>780</td>\n",
       "      <td>13.0</td>\n",
       "      <td>18.0</td>\n",
       "    </tr>\n",
       "    <tr>\n",
       "      <th>4</th>\n",
       "      <td>98800005</td>\n",
       "      <td>Female</td>\n",
       "      <td>Loyal Customer</td>\n",
       "      <td>50.0</td>\n",
       "      <td>Business travel</td>\n",
       "      <td>Business</td>\n",
       "      <td>1981</td>\n",
       "      <td>0.0</td>\n",
       "      <td>0.0</td>\n",
       "    </tr>\n",
       "  </tbody>\n",
       "</table>\n",
       "</div>"
      ],
      "text/plain": [
       "         ID  Gender    CustomerType   Age       TypeTravel Travel_Class  \\\n",
       "0  98800001  Female  Loyal Customer  52.0              NaN     Business   \n",
       "1  98800002    Male  Loyal Customer  48.0  Personal Travel          Eco   \n",
       "2  98800003  Female  Loyal Customer  43.0  Business travel     Business   \n",
       "3  98800004  Female  Loyal Customer  44.0  Business travel     Business   \n",
       "4  98800005  Female  Loyal Customer  50.0  Business travel     Business   \n",
       "\n",
       "   Travel_Distance  DepartureDelay_in_Mins  ArrivalDelay_in_Mins  \n",
       "0              272                     0.0                   5.0  \n",
       "1             2200                     9.0                   0.0  \n",
       "2             1061                    77.0                 119.0  \n",
       "3              780                    13.0                  18.0  \n",
       "4             1981                     0.0                   0.0  "
      ]
     },
     "execution_count": 90,
     "metadata": {},
     "output_type": "execute_result"
    }
   ],
   "source": [
    "# We show the first 5 data of the Traveldata_Train filedata.head()"
   ]
  },
  {
   "cell_type": "code",
   "execution_count": 91,
   "metadata": {},
   "outputs": [
    {
     "data": {
      "text/plain": [
       "(94379, 9)"
      ]
     },
     "execution_count": 91,
     "metadata": {},
     "output_type": "execute_result"
    }
   ],
   "source": [
    "# We show the rows and columns of the Traveldata_Train filedata.shape"
   ]
  },
  {
   "cell_type": "markdown",
   "metadata": {},
   "source": [
    "- It is 94379 rows and 9 columns the Traveldata_Train file"
   ]
  },
  {
   "cell_type": "code",
   "execution_count": 92,
   "metadata": {},
   "outputs": [
    {
     "name": "stdout",
     "output_type": "stream",
     "text": [
      "<class 'pandas.core.frame.DataFrame'>\n",
      "RangeIndex: 94379 entries, 0 to 94378\n",
      "Data columns (total 9 columns):\n",
      " #   Column                  Non-Null Count  Dtype  \n",
      "---  ------                  --------------  -----  \n",
      " 0   ID                      94379 non-null  int64  \n",
      " 1   Gender                  94302 non-null  object \n",
      " 2   CustomerType            85428 non-null  object \n",
      " 3   Age                     94346 non-null  float64\n",
      " 4   TypeTravel              85153 non-null  object \n",
      " 5   Travel_Class            94379 non-null  object \n",
      " 6   Travel_Distance         94379 non-null  int64  \n",
      " 7   DepartureDelay_in_Mins  94322 non-null  float64\n",
      " 8   ArrivalDelay_in_Mins    94022 non-null  float64\n",
      "dtypes: float64(3), int64(2), object(4)\n",
      "memory usage: 6.5+ MB\n"
     ]
    }
   ],
   "source": [
    "# We display the type of data from each column of the Traveldata_Train filedata.info()"
   ]
  },
  {
   "cell_type": "markdown",
   "metadata": {},
   "source": [
    "- There are two columns with the type of data of int64 which is ID and Travel distances- There are 4 columns with the type of objection data and they are: Gender, Customertype, Typetravel, Travellass- There are 3 columns with the type of float data and they are: AGE, Departuredelay_in_min and Arrivaldelay_in_min_min"
   ]
  },
  {
   "cell_type": "code",
   "execution_count": 93,
   "metadata": {},
   "outputs": [
    {
     "data": {
      "text/html": [
       "<div>\n",
       "<style scoped>\n",
       "    .dataframe tbody tr th:only-of-type {\n",
       "        vertical-align: middle;\n",
       "    }\n",
       "\n",
       "    .dataframe tbody tr th {\n",
       "        vertical-align: top;\n",
       "    }\n",
       "\n",
       "    .dataframe thead th {\n",
       "        text-align: right;\n",
       "    }\n",
       "</style>\n",
       "<table border=\"1\" class=\"dataframe\">\n",
       "  <thead>\n",
       "    <tr style=\"text-align: right;\">\n",
       "      <th></th>\n",
       "      <th>count</th>\n",
       "      <th>mean</th>\n",
       "      <th>std</th>\n",
       "      <th>min</th>\n",
       "      <th>25%</th>\n",
       "      <th>50%</th>\n",
       "      <th>75%</th>\n",
       "      <th>max</th>\n",
       "    </tr>\n",
       "  </thead>\n",
       "  <tbody>\n",
       "    <tr>\n",
       "      <th>ID</th>\n",
       "      <td>94379.0</td>\n",
       "      <td>9.884719e+07</td>\n",
       "      <td>27245.014865</td>\n",
       "      <td>98800001.0</td>\n",
       "      <td>98823595.5</td>\n",
       "      <td>98847190.0</td>\n",
       "      <td>98870784.5</td>\n",
       "      <td>98894379.0</td>\n",
       "    </tr>\n",
       "    <tr>\n",
       "      <th>Age</th>\n",
       "      <td>94346.0</td>\n",
       "      <td>3.941965e+01</td>\n",
       "      <td>15.116632</td>\n",
       "      <td>7.0</td>\n",
       "      <td>27.0</td>\n",
       "      <td>40.0</td>\n",
       "      <td>51.0</td>\n",
       "      <td>85.0</td>\n",
       "    </tr>\n",
       "    <tr>\n",
       "      <th>Travel_Distance</th>\n",
       "      <td>94379.0</td>\n",
       "      <td>1.978888e+03</td>\n",
       "      <td>1027.961019</td>\n",
       "      <td>50.0</td>\n",
       "      <td>1359.0</td>\n",
       "      <td>1923.0</td>\n",
       "      <td>2538.0</td>\n",
       "      <td>6951.0</td>\n",
       "    </tr>\n",
       "    <tr>\n",
       "      <th>DepartureDelay_in_Mins</th>\n",
       "      <td>94322.0</td>\n",
       "      <td>1.464709e+01</td>\n",
       "      <td>38.138781</td>\n",
       "      <td>0.0</td>\n",
       "      <td>0.0</td>\n",
       "      <td>0.0</td>\n",
       "      <td>12.0</td>\n",
       "      <td>1592.0</td>\n",
       "    </tr>\n",
       "    <tr>\n",
       "      <th>ArrivalDelay_in_Mins</th>\n",
       "      <td>94022.0</td>\n",
       "      <td>1.500522e+01</td>\n",
       "      <td>38.439409</td>\n",
       "      <td>0.0</td>\n",
       "      <td>0.0</td>\n",
       "      <td>0.0</td>\n",
       "      <td>13.0</td>\n",
       "      <td>1584.0</td>\n",
       "    </tr>\n",
       "  </tbody>\n",
       "</table>\n",
       "</div>"
      ],
      "text/plain": [
       "                          count          mean           std         min  \\\n",
       "ID                      94379.0  9.884719e+07  27245.014865  98800001.0   \n",
       "Age                     94346.0  3.941965e+01     15.116632         7.0   \n",
       "Travel_Distance         94379.0  1.978888e+03   1027.961019        50.0   \n",
       "DepartureDelay_in_Mins  94322.0  1.464709e+01     38.138781         0.0   \n",
       "ArrivalDelay_in_Mins    94022.0  1.500522e+01     38.439409         0.0   \n",
       "\n",
       "                               25%         50%         75%         max  \n",
       "ID                      98823595.5  98847190.0  98870784.5  98894379.0  \n",
       "Age                           27.0        40.0        51.0        85.0  \n",
       "Travel_Distance             1359.0      1923.0      2538.0      6951.0  \n",
       "DepartureDelay_in_Mins         0.0         0.0        12.0      1592.0  \n",
       "ArrivalDelay_in_Mins           0.0         0.0        13.0      1584.0  "
      ]
     },
     "execution_count": 93,
     "metadata": {},
     "output_type": "execute_result"
    }
   ],
   "source": [
    "# Let's show the statistical variables of the Traveldata_Train training filedata.describe().T"
   ]
  },
  {
   "cell_type": "markdown",
   "metadata": {},
   "source": [
    "- The third quarter and the average of Travel_distance has a lot of difference"
   ]
  },
  {
   "cell_type": "code",
   "execution_count": 95,
   "metadata": {},
   "outputs": [
    {
     "data": {
      "text/plain": [
       "0"
      ]
     },
     "execution_count": 95,
     "metadata": {},
     "output_type": "execute_result"
    }
   ],
   "source": [
    "# Let's check if there are duplicate valuesdata.duplicated().sum()"
   ]
  },
  {
   "cell_type": "markdown",
   "metadata": {},
   "source": [
    "- There are no null values ​​in the Traveldata_Train training file"
   ]
  },
  {
   "cell_type": "code",
   "execution_count": 96,
   "metadata": {},
   "outputs": [
    {
     "data": {
      "text/plain": [
       "ID                           0\n",
       "Gender                      77\n",
       "CustomerType              8951\n",
       "Age                         33\n",
       "TypeTravel                9226\n",
       "Travel_Class                 0\n",
       "Travel_Distance              0\n",
       "DepartureDelay_in_Mins      57\n",
       "ArrivalDelay_in_Mins       357\n",
       "dtype: int64"
      ]
     },
     "execution_count": 96,
     "metadata": {},
     "output_type": "execute_result"
    }
   ],
   "source": [
    "# We verify if there are no null values ​​in the Traveldata_Train training filedata.isnull().sum()"
   ]
  },
  {
   "cell_type": "markdown",
   "metadata": {},
   "source": [
    "- There are no null values ​​in just two columns that are: ID, Travel_class and Travel_DISTANCE; In all other columnsThere are lost or null values."
   ]
  },
  {
   "cell_type": "code",
   "execution_count": 99,
   "metadata": {},
   "outputs": [
    {
     "data": {
      "image/png": "[encoded data removed]",
      "text/plain": [
       "<Figure size 288x432 with 1 Axes>"
      ]
     },
     "metadata": {
      "needs_background": "light"
     },
     "output_type": "display_data"
    }
   ],
   "source": [
    "# We use the function defined in the previous step to graph \"Gender\"labeled_barplot(data, \"Gender\", perc=True) "
   ]
  },
  {
   "cell_type": "markdown",
   "metadata": {},
   "source": [
    "- Women travel a little more than men on the train or trains"
   ]
  },
  {
   "cell_type": "code",
   "execution_count": 100,
   "metadata": {},
   "outputs": [
    {
     "data": {
      "image/png": "[encoded data removed]",
      "text/plain": [
       "<Figure size 288x432 with 1 Axes>"
      ]
     },
     "metadata": {
      "needs_background": "light"
     },
     "output_type": "display_data"
    }
   ],
   "source": [
    "# We use the function defined in the previous step to graph \"Customertype\"labeled_barplot(data, \"CustomerType\", perc=True) "
   ]
  },
  {
   "cell_type": "markdown",
   "metadata": {},
   "source": [
    "- More loyal customers travel to the company than unfair."
   ]
  },
  {
   "cell_type": "code",
   "execution_count": 102,
   "metadata": {},
   "outputs": [
    {
     "data": {
      "image/png": "[encoded data removed]",
      "text/plain": [
       "<Figure size 288x432 with 1 Axes>"
      ]
     },
     "metadata": {
      "needs_background": "light"
     },
     "output_type": "display_data"
    }
   ],
   "source": [
    "# We use the function defined in the previous step to graph \"Typetravel\"labeled_barplot(data, \"TypeTravel\", perc=True) "
   ]
  },
  {
   "cell_type": "markdown",
   "metadata": {},
   "source": [
    "- There are more business trips than pleasure or personal."
   ]
  },
  {
   "cell_type": "markdown",
   "metadata": {},
   "source": [
    "### Bivariate analysis"
   ]
  },
  {
   "cell_type": "code",
   "execution_count": 107,
   "metadata": {},
   "outputs": [
    {
     "data": {
      "image/png": "[encoded data removed]",
      "text/plain": [
       "<Figure size 720x360 with 2 Axes>"
      ]
     },
     "metadata": {
      "needs_background": "light"
     },
     "output_type": "display_data"
    }
   ],
   "source": [
    "cols_list = data.select_dtypes(include=np.number).columns.tolist()\n",
    "plt.figure(figsize=(10, 5))\n",
    "sns.heatmap(\n",
    "    data[cols_list].corr(), annot=True, vmin=-1, vmax=1, fmt=\".2f\", cmap=\"Spectral\"\n",
    ") \n",
    "plt.show()"
   ]
  },
  {
   "cell_type": "markdown",
   "metadata": {},
   "source": [
    "- Clearly it is seen that there is dependence between the variable departuredelay_in_min and arrivaldelay_in_min, having logicaThe more the departure the arrival will be more delayed."
   ]
  },
  {
   "cell_type": "markdown",
   "metadata": {},
   "source": [
    "### Checking of atypical values"
   ]
  },
  {
   "cell_type": "code",
   "execution_count": 108,
   "metadata": {},
   "outputs": [
    {
     "data": {
      "image/png": "[encoded data removed]",
      "text/plain": [
       "<Figure size 1080x864 with 5 Axes>"
      ]
     },
     "metadata": {
      "needs_background": "light"
     },
     "output_type": "display_data"
    }
   ],
   "source": [
    "numeric_columns = data.select_dtypes(include=np.number).columns.tolist()\n",
    "\n",
    "\n",
    "plt.figure(figsize=(15, 12))\n",
    "\n",
    "for i, variable in enumerate(numeric_columns):\n",
    "    plt.subplot(4, 4, i + 1)\n",
    "    plt.boxplot(data[variable], whis=1.5)\n",
    "    plt.tight_layout()\n",
    "    plt.title(variable)\n",
    "plt.show()"
   ]
  },
  {
   "cell_type": "markdown",
   "metadata": {},
   "source": [
    "- No atypical values ​​are observed"
   ]
  },
  {
   "cell_type": "code",
   "execution_count": 2,
   "metadata": {},
   "outputs": [],
   "source": [
    "datos = pd.read_csv('Shinkansen_Warriors_Bros_Fer_Guerrero.csv')"
   ]
  },
  {
   "cell_type": "code",
   "execution_count": 3,
   "metadata": {},
   "outputs": [
    {
     "data": {
      "text/plain": [
       "ID                    0\n",
       "Overall_Experience    0\n",
       "dtype: int64"
      ]
     },
     "execution_count": 3,
     "metadata": {},
     "output_type": "execute_result"
    }
   ],
   "source": [
    "datos.isnull().sum()"
   ]
  },
  {
   "cell_type": "code",
   "execution_count": null,
   "metadata": {},
   "outputs": [],
   "source": []
  }
 ],
 "metadata": {
  "colab": {
   "provenance": [],
   "toc_visible": true
  },
  "kernelspec": {
   "display_name": "Python 3 (ipykernel)",
   "language": "python",
   "name": "python3"
  },
  "language_info": {
   "codemirror_mode": {
    "name": "ipython",
    "version": 3
   },
   "file_extension": ".py",
   "mimetype": "text/x-python",
   "name": "python",
   "nbconvert_exporter": "python",
   "pygments_lexer": "ipython3",
   "version": "3.9.12"
  },
  "nbTranslate": {
   "displayLangs": [
    "es"
   ],
   "hotkey": "alt-t",
   "langInMainMenu": true,
   "sourceLang": "en",
   "targetLang": "es",
   "useGoogleTranslate": true
  }
 },
 "nbformat": 4,
 "nbformat_minor": 1
}
